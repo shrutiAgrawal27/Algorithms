{
 "cells": [
  {
   "cell_type": "markdown",
   "id": "fb2ac36b-9974-4f66-93e5-20b63fe97cbd",
   "metadata": {},
   "source": [
    "Example of a RAG (Retrieval-Augmented Generation) system — often used in GenAI projects when you want an LLM like GPT or LLaMA to generate accurate, context-specific answers from your own documents or data.\n",
    "\n",
    "# 🧠 What is RAG?\n",
    "Retrieval-Augmented Generation (RAG) =\n",
    "retrieval step + generation step\n",
    "\n",
    "It allows an LLM to:\n",
    "\n",
    "Retrieve relevant information from your data (documents, PDFs, DBs).\n",
    "\n",
    "Generate an answer using that info + prompt.\n",
    "\n",
    "# 📘 Example: \"HR Document Assistant\" (RAG)\n",
    "\n",
    "# ✅ Goal:\n",
    "“Build a chatbot that answers questions like ‘What is the company leave policy?’ based on your internal HR policy PDFs.”"
   ]
  },
  {
   "cell_type": "markdown",
   "id": "84e1657c",
   "metadata": {},
   "source": [
    "# 🤖 RAG System: OpenAI vs Local Embeddings\n",
    "This notebook compares two Retrieval-Augmented Generation (RAG) pipelines:\n",
    "- ✅ Approach 1: Using OpenAI Embeddings + GPT\n",
    "- 🐍 Approach 2: Using HuggingFace Embeddings + Local Model (LLaMA or similar)"
   ]
  },
  {
   "cell_type": "code",
   "execution_count": 3,
   "id": "ae7aa04c",
   "metadata": {},
   "outputs": [
    {
     "name": "stdout",
     "output_type": "stream",
     "text": [
      "Document chunks: 2\n"
     ]
    },
    {
     "data": {
      "text/plain": [
       "[Document(metadata={}, page_content='Section 1: Leave Policy\\nAll full-time employees are entitled to 24 paid leave days per calendar year.\\nSick leave requires a medical certificate if more than 2 consecutive days are taken.\\nSection 2: Work From Home\\nEmployees may request remote work up to 2 days per week, with prior manager approval.'),\n",
       " Document(metadata={}, page_content='Section 3: Reimbursement\\nEmployees can claim up to â‚¹1,000 per month for internet expenses with valid receipts.')]"
      ]
     },
     "execution_count": 3,
     "metadata": {},
     "output_type": "execute_result"
    }
   ],
   "source": [
    "from pathlib import Path\n",
    "from langchain.text_splitter import CharacterTextSplitter\n",
    "\n",
    "# Load HR policy\n",
    "file_path = r\"C:\\Users\\shruti.y.agarwal\\Desktop\\Practice\\Algorithms\\Data\\HR_Policy.txt\"\n",
    "text = Path(file_path).read_text()\n",
    "\n",
    "# Split into chunks\n",
    "splitter = CharacterTextSplitter(separator=\"\\n\", chunk_size=300, chunk_overlap=20)\n",
    "docs = splitter.create_documents([text])\n",
    "print(\"Document chunks:\", len(docs))\n",
    "docs[:2]  # preview\n"
   ]
  },
  {
   "cell_type": "markdown",
   "id": "37ca5a37",
   "metadata": {},
   "source": [
    "## 🔷 Approach 1: OpenAI Embeddings + GPT"
   ]
  },
  {
   "cell_type": "code",
   "execution_count": null,
   "id": "3301f55a",
   "metadata": {},
   "outputs": [],
   "source": [
    "from langchain.vectorstores import FAISS\n",
    "from langchain.embeddings import OpenAIEmbeddings\n",
    "from langchain.chat_models import ChatOpenAI\n",
    "from langchain.chains import RetrievalQA\n",
    "import os\n",
    "\n",
    "# Set your OpenAI key\n",
    "os.environ[\"OPENAI_API_KEY\"] = \"your-api-key-here\"\n",
    "\n",
    "# Create vector store using OpenAI embeddings\n",
    "embedding = OpenAIEmbeddings()\n",
    "db_openai = FAISS.from_documents(docs, embedding)\n",
    "\n",
    "# Retrieval QA\n",
    "retriever = db_openai.as_retriever()\n",
    "qa_chain = RetrievalQA.from_chain_type(llm=ChatOpenAI(model_name=\"gpt-3.5-turbo\"), retriever=retriever)\n",
    "\n",
    "# Ask a question\n",
    "query = \"How many paid leave days are allowed?\"\n",
    "print(\"Answer:\", qa_chain.run(query))\n"
   ]
  },
  {
   "cell_type": "markdown",
   "id": "be13b750",
   "metadata": {},
   "source": [
    "## 🐍 Approach 2: HuggingFace Embeddings + Local Model"
   ]
  },
  {
   "cell_type": "code",
   "execution_count": 22,
   "id": "85e4eafd",
   "metadata": {},
   "outputs": [
    {
     "data": {
      "application/vnd.jupyter.widget-view+json": {
       "model_id": "2a20c0d6592541d7a1b5269b5843dd8d",
       "version_major": 2,
       "version_minor": 0
      },
      "text/plain": [
       "modules.json:   0%|          | 0.00/349 [00:00<?, ?B/s]"
      ]
     },
     "metadata": {},
     "output_type": "display_data"
    },
    {
     "name": "stderr",
     "output_type": "stream",
     "text": [
      "C:\\Users\\shruti.y.agarwal\\AppData\\Local\\Programs\\Python\\Python311\\Lib\\site-packages\\huggingface_hub\\file_download.py:140: UserWarning: `huggingface_hub` cache-system uses symlinks by default to efficiently store duplicated files but your machine does not support them in C:\\Users\\shruti.y.agarwal\\.cache\\huggingface\\hub\\models--sentence-transformers--all-MiniLM-L6-v2. Caching files will still work but in a degraded version that might require more space on your disk. This warning can be disabled by setting the `HF_HUB_DISABLE_SYMLINKS_WARNING` environment variable. For more details, see https://huggingface.co/docs/huggingface_hub/how-to-cache#limitations.\n",
      "To support symlinks on Windows, you either need to activate Developer Mode or to run Python as an administrator. In order to activate developer mode, see this article: https://docs.microsoft.com/en-us/windows/apps/get-started/enable-your-device-for-development\n",
      "  warnings.warn(message)\n"
     ]
    },
    {
     "data": {
      "application/vnd.jupyter.widget-view+json": {
       "model_id": "70b6c4fda8264f8ba684c0ab42c98a33",
       "version_major": 2,
       "version_minor": 0
      },
      "text/plain": [
       "config_sentence_transformers.json:   0%|          | 0.00/116 [00:00<?, ?B/s]"
      ]
     },
     "metadata": {},
     "output_type": "display_data"
    },
    {
     "data": {
      "application/vnd.jupyter.widget-view+json": {
       "model_id": "0cb74fb801c742d698f4921248edc4e2",
       "version_major": 2,
       "version_minor": 0
      },
      "text/plain": [
       "README.md:   0%|          | 0.00/10.5k [00:00<?, ?B/s]"
      ]
     },
     "metadata": {},
     "output_type": "display_data"
    },
    {
     "data": {
      "application/vnd.jupyter.widget-view+json": {
       "model_id": "dd7917e8ac1a4c86879c70d394e6cebf",
       "version_major": 2,
       "version_minor": 0
      },
      "text/plain": [
       "sentence_bert_config.json:   0%|          | 0.00/53.0 [00:00<?, ?B/s]"
      ]
     },
     "metadata": {},
     "output_type": "display_data"
    },
    {
     "data": {
      "application/vnd.jupyter.widget-view+json": {
       "model_id": "aab752649ffd48049aef2651be3a2038",
       "version_major": 2,
       "version_minor": 0
      },
      "text/plain": [
       "config.json:   0%|          | 0.00/612 [00:00<?, ?B/s]"
      ]
     },
     "metadata": {},
     "output_type": "display_data"
    },
    {
     "data": {
      "application/vnd.jupyter.widget-view+json": {
       "model_id": "68e8368dbf824ddabbf867523fa93ea4",
       "version_major": 2,
       "version_minor": 0
      },
      "text/plain": [
       "model.safetensors:   0%|          | 0.00/90.9M [00:00<?, ?B/s]"
      ]
     },
     "metadata": {},
     "output_type": "display_data"
    },
    {
     "data": {
      "application/vnd.jupyter.widget-view+json": {
       "model_id": "37f2237db8014525a03b3d611b63f041",
       "version_major": 2,
       "version_minor": 0
      },
      "text/plain": [
       "tokenizer_config.json:   0%|          | 0.00/350 [00:00<?, ?B/s]"
      ]
     },
     "metadata": {},
     "output_type": "display_data"
    },
    {
     "data": {
      "application/vnd.jupyter.widget-view+json": {
       "model_id": "da617ebe3336428daaf6e1b317c98877",
       "version_major": 2,
       "version_minor": 0
      },
      "text/plain": [
       "vocab.txt:   0%|          | 0.00/232k [00:00<?, ?B/s]"
      ]
     },
     "metadata": {},
     "output_type": "display_data"
    },
    {
     "data": {
      "application/vnd.jupyter.widget-view+json": {
       "model_id": "f86a9fa502544273880cea1eccc4f932",
       "version_major": 2,
       "version_minor": 0
      },
      "text/plain": [
       "tokenizer.json:   0%|          | 0.00/466k [00:00<?, ?B/s]"
      ]
     },
     "metadata": {},
     "output_type": "display_data"
    },
    {
     "data": {
      "application/vnd.jupyter.widget-view+json": {
       "model_id": "e80f8e35bb5d40dcae11dfd0af8b2128",
       "version_major": 2,
       "version_minor": 0
      },
      "text/plain": [
       "special_tokens_map.json:   0%|          | 0.00/112 [00:00<?, ?B/s]"
      ]
     },
     "metadata": {},
     "output_type": "display_data"
    },
    {
     "data": {
      "application/vnd.jupyter.widget-view+json": {
       "model_id": "236a959ac6224b598bb4b24ccf2b8184",
       "version_major": 2,
       "version_minor": 0
      },
      "text/plain": [
       "config.json:   0%|          | 0.00/190 [00:00<?, ?B/s]"
      ]
     },
     "metadata": {},
     "output_type": "display_data"
    },
    {
     "data": {
      "application/vnd.jupyter.widget-view+json": {
       "model_id": "641f25d1d7d24c69893a59f589da9469",
       "version_major": 2,
       "version_minor": 0
      },
      "text/plain": [
       "config.json:   0%|          | 0.00/1.05k [00:00<?, ?B/s]"
      ]
     },
     "metadata": {},
     "output_type": "display_data"
    },
    {
     "name": "stderr",
     "output_type": "stream",
     "text": [
      "C:\\Users\\shruti.y.agarwal\\AppData\\Local\\Programs\\Python\\Python311\\Lib\\site-packages\\huggingface_hub\\file_download.py:140: UserWarning: `huggingface_hub` cache-system uses symlinks by default to efficiently store duplicated files but your machine does not support them in C:\\Users\\shruti.y.agarwal\\.cache\\huggingface\\hub\\models--tiiuae--falcon-7b-instruct. Caching files will still work but in a degraded version that might require more space on your disk. This warning can be disabled by setting the `HF_HUB_DISABLE_SYMLINKS_WARNING` environment variable. For more details, see https://huggingface.co/docs/huggingface_hub/how-to-cache#limitations.\n",
      "To support symlinks on Windows, you either need to activate Developer Mode or to run Python as an administrator. In order to activate developer mode, see this article: https://docs.microsoft.com/en-us/windows/apps/get-started/enable-your-device-for-development\n",
      "  warnings.warn(message)\n"
     ]
    },
    {
     "data": {
      "application/vnd.jupyter.widget-view+json": {
       "model_id": "09dc0e19e64948099d1ea82291706967",
       "version_major": 2,
       "version_minor": 0
      },
      "text/plain": [
       "model.safetensors.index.json:   0%|          | 0.00/17.7k [00:00<?, ?B/s]"
      ]
     },
     "metadata": {},
     "output_type": "display_data"
    },
    {
     "data": {
      "application/vnd.jupyter.widget-view+json": {
       "model_id": "f6f53068770e44119939672b5e10114e",
       "version_major": 2,
       "version_minor": 0
      },
      "text/plain": [
       "Downloading shards:   0%|          | 0/2 [00:00<?, ?it/s]"
      ]
     },
     "metadata": {},
     "output_type": "display_data"
    },
    {
     "data": {
      "application/vnd.jupyter.widget-view+json": {
       "model_id": "e7b8129abe724e608cbf5fd4d001e7c3",
       "version_major": 2,
       "version_minor": 0
      },
      "text/plain": [
       "model-00001-of-00002.safetensors:   0%|          | 0.00/9.95G [00:00<?, ?B/s]"
      ]
     },
     "metadata": {},
     "output_type": "display_data"
    },
    {
     "name": "stderr",
     "output_type": "stream",
     "text": [
      "Error while downloading from https://cdn-lfs.hf.co/repos/fb/9d/fb9d2cbe2e913461ae463cd35cb5a43ad1c5115ba9e913382f147e2f1ea66f3d/b4515a8e32f81ab4fef65e10891fdb188bc45c4195620d447bc3263e132d9de5?response-content-disposition=inline%3B+filename*%3DUTF-8%27%27model-00001-of-00002.safetensors%3B+filename%3D%22model-00001-of-00002.safetensors%22%3B&Expires=1750756953&Policy=eyJTdGF0ZW1lbnQiOlt7IkNvbmRpdGlvbiI6eyJEYXRlTGVzc1RoYW4iOnsiQVdTOkVwb2NoVGltZSI6MTc1MDc1Njk1M319LCJSZXNvdXJjZSI6Imh0dHBzOi8vY2RuLWxmcy5oZi5jby9yZXBvcy9mYi85ZC9mYjlkMmNiZTJlOTEzNDYxYWU0NjNjZDM1Y2I1YTQzYWQxYzUxMTViYTllOTEzMzgyZjE0N2UyZjFlYTY2ZjNkL2I0NTE1YThlMzJmODFhYjRmZWY2NWUxMDg5MWZkYjE4OGJjNDVjNDE5NTYyMGQ0NDdiYzMyNjNlMTMyZDlkZTU%7EcmVzcG9uc2UtY29udGVudC1kaXNwb3NpdGlvbj0qIn1dfQ__&Signature=EUO5KAIV%7EB6hFc974BSNTfFPJKMOkQX5Fg0UE3xJmPUAA4aEejOkA2WyckEzRGwoy18CsJ1%7ETMcFW1k9zsR-2Ow3onOgNrQxKvIWrzKAKOr87Ih9tLShtxLoD4GJuJt7rh%7EMTuc%7EGCY2XTQe9UguivchnGzD0mVLs-O7olt0-epOPuD1Rat2W8wZpaIJ0jBHtqgMjfHrGDeeukXDE9dB7ZGdwexYCwKs6A4wuVVF3tMdGmBZnkoje%7Ejjo07mg%7E7IeanV4BA8zB2jcJsh2nImimx8WM-8vixVN716%7E5bkq0XlqcEESydbD3g1XCp1ScsCiHsFGuuB87O1Jiwd1Oc29A__&Key-Pair-Id=K3RPWS32NSSJCE: HTTPSConnectionPool(host='cdn-lfs.hf.co', port=443): Read timed out.\n",
      "Trying to resume download...\n"
     ]
    },
    {
     "data": {
      "application/vnd.jupyter.widget-view+json": {
       "model_id": "338f820917b64ebeb6d9ae90ee9a8612",
       "version_major": 2,
       "version_minor": 0
      },
      "text/plain": [
       "Downloading shards:   0%|          | 0/2 [00:00<?, ?it/s]"
      ]
     },
     "metadata": {},
     "output_type": "display_data"
    },
    {
     "data": {
      "application/vnd.jupyter.widget-view+json": {
       "model_id": "5a1d42f1e0b94e99bbbb00be9f1fc991",
       "version_major": 2,
       "version_minor": 0
      },
      "text/plain": [
       "model-00001-of-00002.safetensors:   3%|2         | 294M/9.95G [00:00<?, ?B/s]"
      ]
     },
     "metadata": {},
     "output_type": "display_data"
    },
    {
     "name": "stderr",
     "output_type": "stream",
     "text": [
      "Error while downloading from https://cdn-lfs.hf.co/repos/fb/9d/fb9d2cbe2e913461ae463cd35cb5a43ad1c5115ba9e913382f147e2f1ea66f3d/b4515a8e32f81ab4fef65e10891fdb188bc45c4195620d447bc3263e132d9de5?response-content-disposition=inline%3B+filename*%3DUTF-8%27%27model-00001-of-00002.safetensors%3B+filename%3D%22model-00001-of-00002.safetensors%22%3B&Expires=1750757338&Policy=eyJTdGF0ZW1lbnQiOlt7IkNvbmRpdGlvbiI6eyJEYXRlTGVzc1RoYW4iOnsiQVdTOkVwb2NoVGltZSI6MTc1MDc1NzMzOH19LCJSZXNvdXJjZSI6Imh0dHBzOi8vY2RuLWxmcy5oZi5jby9yZXBvcy9mYi85ZC9mYjlkMmNiZTJlOTEzNDYxYWU0NjNjZDM1Y2I1YTQzYWQxYzUxMTViYTllOTEzMzgyZjE0N2UyZjFlYTY2ZjNkL2I0NTE1YThlMzJmODFhYjRmZWY2NWUxMDg5MWZkYjE4OGJjNDVjNDE5NTYyMGQ0NDdiYzMyNjNlMTMyZDlkZTU%7EcmVzcG9uc2UtY29udGVudC1kaXNwb3NpdGlvbj0qIn1dfQ__&Signature=wDi5JiAcAK7DqyCV3CRR%7Ebv6q822TzT%7EQw94o3T3gpf6ZLFRSgPWwfE--%7Ec5AMMcNSyse0AKncH0A3BjGMCIvwdrEk5vRs--42YixcuOcmG-B0J28a2eU85LVMEtn-S4wDtmYwbiT8xxDfheRgmWwan6KO5W-2-h2klzVku9cKlj6YEiovx3-NOaPxBXlv02zLg%7Es6D4RxM6lAr%7EXThxgXomDvYuDUTsxtxpz7fM40rExh6akDTbIfOmi0-pm6oVpfrB1mhd1x21EzzfmKFjXJgHS7bVyyDk7Pop2K7JUXcL8LJ-Q96ihWlWvDJrZlVyPo5dYdbsLM3%7EfWYo8fv8SQ__&Key-Pair-Id=K3RPWS32NSSJCE: HTTPSConnectionPool(host='cdn-lfs.hf.co', port=443): Read timed out.\n",
      "Trying to resume download...\n"
     ]
    },
    {
     "data": {
      "application/vnd.jupyter.widget-view+json": {
       "model_id": "ae58bfed44e1478b89ce1c4ab375c6da",
       "version_major": 2,
       "version_minor": 0
      },
      "text/plain": [
       "model-00001-of-00002.safetensors:   3%|2         | 294M/9.95G [00:00<?, ?B/s]"
      ]
     },
     "metadata": {},
     "output_type": "display_data"
    },
    {
     "name": "stderr",
     "output_type": "stream",
     "text": [
      "Error while downloading from https://cdn-lfs.hf.co/repos/fb/9d/fb9d2cbe2e913461ae463cd35cb5a43ad1c5115ba9e913382f147e2f1ea66f3d/b4515a8e32f81ab4fef65e10891fdb188bc45c4195620d447bc3263e132d9de5?response-content-disposition=inline%3B+filename*%3DUTF-8%27%27model-00001-of-00002.safetensors%3B+filename%3D%22model-00001-of-00002.safetensors%22%3B&Expires=1750757338&Policy=eyJTdGF0ZW1lbnQiOlt7IkNvbmRpdGlvbiI6eyJEYXRlTGVzc1RoYW4iOnsiQVdTOkVwb2NoVGltZSI6MTc1MDc1NzMzOH19LCJSZXNvdXJjZSI6Imh0dHBzOi8vY2RuLWxmcy5oZi5jby9yZXBvcy9mYi85ZC9mYjlkMmNiZTJlOTEzNDYxYWU0NjNjZDM1Y2I1YTQzYWQxYzUxMTViYTllOTEzMzgyZjE0N2UyZjFlYTY2ZjNkL2I0NTE1YThlMzJmODFhYjRmZWY2NWUxMDg5MWZkYjE4OGJjNDVjNDE5NTYyMGQ0NDdiYzMyNjNlMTMyZDlkZTU%7EcmVzcG9uc2UtY29udGVudC1kaXNwb3NpdGlvbj0qIn1dfQ__&Signature=wDi5JiAcAK7DqyCV3CRR%7Ebv6q822TzT%7EQw94o3T3gpf6ZLFRSgPWwfE--%7Ec5AMMcNSyse0AKncH0A3BjGMCIvwdrEk5vRs--42YixcuOcmG-B0J28a2eU85LVMEtn-S4wDtmYwbiT8xxDfheRgmWwan6KO5W-2-h2klzVku9cKlj6YEiovx3-NOaPxBXlv02zLg%7Es6D4RxM6lAr%7EXThxgXomDvYuDUTsxtxpz7fM40rExh6akDTbIfOmi0-pm6oVpfrB1mhd1x21EzzfmKFjXJgHS7bVyyDk7Pop2K7JUXcL8LJ-Q96ihWlWvDJrZlVyPo5dYdbsLM3%7EfWYo8fv8SQ__&Key-Pair-Id=K3RPWS32NSSJCE: HTTPSConnectionPool(host='cdn-lfs.hf.co', port=443): Read timed out.\n",
      "Trying to resume download...\n"
     ]
    },
    {
     "ename": "ValueError",
     "evalue": "Could not load model tiiuae/falcon-7b-instruct with any of the following classes: (<class 'transformers.models.auto.modeling_auto.AutoModelForCausalLM'>, <class 'transformers.models.auto.modeling_tf_auto.TFAutoModelForCausalLM'>, <class 'transformers.models.falcon.modeling_falcon.FalconForCausalLM'>). See the original errors:\n\nwhile loading with AutoModelForCausalLM, an error is thrown:\nTraceback (most recent call last):\n  File \"C:\\Users\\shruti.y.agarwal\\AppData\\Local\\Programs\\Python\\Python311\\Lib\\site-packages\\urllib3\\response.py\", line 737, in _error_catcher\n    yield\n  File \"C:\\Users\\shruti.y.agarwal\\AppData\\Local\\Programs\\Python\\Python311\\Lib\\site-packages\\urllib3\\response.py\", line 852, in _raw_read\n    data = self._fp_read(amt, read1=read1) if not fp_closed else b\"\"\n           ^^^^^^^^^^^^^^^^^^^^^^^^^^^^^^^\n  File \"C:\\Users\\shruti.y.agarwal\\AppData\\Local\\Programs\\Python\\Python311\\Lib\\site-packages\\urllib3\\response.py\", line 835, in _fp_read\n    return self._fp.read(amt) if amt is not None else self._fp.read()\n           ^^^^^^^^^^^^^^^^^^\n  File \"C:\\Users\\shruti.y.agarwal\\AppData\\Local\\Programs\\Python\\Python311\\Lib\\http\\client.py\", line 473, in read\n    s = self.fp.read(amt)\n        ^^^^^^^^^^^^^^^^^\n  File \"C:\\Users\\shruti.y.agarwal\\AppData\\Local\\Programs\\Python\\Python311\\Lib\\socket.py\", line 706, in readinto\n    return self._sock.recv_into(b)\n           ^^^^^^^^^^^^^^^^^^^^^^^\n  File \"C:\\Users\\shruti.y.agarwal\\AppData\\Local\\Programs\\Python\\Python311\\Lib\\ssl.py\", line 1314, in recv_into\n    return self.read(nbytes, buffer)\n           ^^^^^^^^^^^^^^^^^^^^^^^^^\n  File \"C:\\Users\\shruti.y.agarwal\\AppData\\Local\\Programs\\Python\\Python311\\Lib\\ssl.py\", line 1166, in read\n    return self._sslobj.read(len, buffer)\n           ^^^^^^^^^^^^^^^^^^^^^^^^^^^^^^\nTimeoutError: The read operation timed out\n\nThe above exception was the direct cause of the following exception:\n\nTraceback (most recent call last):\n  File \"C:\\Users\\shruti.y.agarwal\\AppData\\Local\\Programs\\Python\\Python311\\Lib\\site-packages\\requests\\models.py\", line 816, in generate\n    yield from self.raw.stream(chunk_size, decode_content=True)\n  File \"C:\\Users\\shruti.y.agarwal\\AppData\\Local\\Programs\\Python\\Python311\\Lib\\site-packages\\urllib3\\response.py\", line 1033, in stream\n    data = self.read(amt=amt, decode_content=decode_content)\n           ^^^^^^^^^^^^^^^^^^^^^^^^^^^^^^^^^^^^^^^^^^^^^^^^^\n  File \"C:\\Users\\shruti.y.agarwal\\AppData\\Local\\Programs\\Python\\Python311\\Lib\\site-packages\\urllib3\\response.py\", line 925, in read\n    data = self._raw_read(amt)\n           ^^^^^^^^^^^^^^^^^^^\n  File \"C:\\Users\\shruti.y.agarwal\\AppData\\Local\\Programs\\Python\\Python311\\Lib\\site-packages\\urllib3\\response.py\", line 851, in _raw_read\n    with self._error_catcher():\n  File \"C:\\Users\\shruti.y.agarwal\\AppData\\Local\\Programs\\Python\\Python311\\Lib\\contextlib.py\", line 158, in __exit__\n    self.gen.throw(typ, value, traceback)\n  File \"C:\\Users\\shruti.y.agarwal\\AppData\\Local\\Programs\\Python\\Python311\\Lib\\site-packages\\urllib3\\response.py\", line 742, in _error_catcher\n    raise ReadTimeoutError(self._pool, None, \"Read timed out.\") from e  # type: ignore[arg-type]\n    ^^^^^^^^^^^^^^^^^^^^^^^^^^^^^^^^^^^^^^^^^^^^^^^^^^^^^^^^^^^^^^^^^^\nurllib3.exceptions.ReadTimeoutError: HTTPSConnectionPool(host='cdn-lfs.hf.co', port=443): Read timed out.\n\nDuring handling of the above exception, another exception occurred:\n\nTraceback (most recent call last):\n  File \"C:\\Users\\shruti.y.agarwal\\AppData\\Local\\Programs\\Python\\Python311\\Lib\\site-packages\\huggingface_hub\\file_download.py\", line 452, in http_get\n    for chunk in r.iter_content(chunk_size=constants.DOWNLOAD_CHUNK_SIZE):\n  File \"C:\\Users\\shruti.y.agarwal\\AppData\\Local\\Programs\\Python\\Python311\\Lib\\site-packages\\requests\\models.py\", line 822, in generate\n    raise ConnectionError(e)\nrequests.exceptions.ConnectionError: HTTPSConnectionPool(host='cdn-lfs.hf.co', port=443): Read timed out.\n\nDuring handling of the above exception, another exception occurred:\n\nTraceback (most recent call last):\n  File \"C:\\Users\\shruti.y.agarwal\\AppData\\Local\\Programs\\Python\\Python311\\Lib\\site-packages\\urllib3\\connectionpool.py\", line 467, in _make_request\n    self._validate_conn(conn)\n  File \"C:\\Users\\shruti.y.agarwal\\AppData\\Local\\Programs\\Python\\Python311\\Lib\\site-packages\\urllib3\\connectionpool.py\", line 1099, in _validate_conn\n    conn.connect()\n  File \"C:\\Users\\shruti.y.agarwal\\AppData\\Local\\Programs\\Python\\Python311\\Lib\\site-packages\\urllib3\\connection.py\", line 653, in connect\n    sock_and_verified = _ssl_wrap_socket_and_match_hostname(\n                        ^^^^^^^^^^^^^^^^^^^^^^^^^^^^^^^^^^^^\n  File \"C:\\Users\\shruti.y.agarwal\\AppData\\Local\\Programs\\Python\\Python311\\Lib\\site-packages\\urllib3\\connection.py\", line 806, in _ssl_wrap_socket_and_match_hostname\n    ssl_sock = ssl_wrap_socket(\n               ^^^^^^^^^^^^^^^^\n  File \"C:\\Users\\shruti.y.agarwal\\AppData\\Local\\Programs\\Python\\Python311\\Lib\\site-packages\\urllib3\\util\\ssl_.py\", line 465, in ssl_wrap_socket\n    ssl_sock = _ssl_wrap_socket_impl(sock, context, tls_in_tls, server_hostname)\n               ^^^^^^^^^^^^^^^^^^^^^^^^^^^^^^^^^^^^^^^^^^^^^^^^^^^^^^^^^^^^^^^^^\n  File \"C:\\Users\\shruti.y.agarwal\\AppData\\Local\\Programs\\Python\\Python311\\Lib\\site-packages\\urllib3\\util\\ssl_.py\", line 509, in _ssl_wrap_socket_impl\n    return ssl_context.wrap_socket(sock, server_hostname=server_hostname)\n           ^^^^^^^^^^^^^^^^^^^^^^^^^^^^^^^^^^^^^^^^^^^^^^^^^^^^^^^^^^^^^^\n  File \"C:\\Users\\shruti.y.agarwal\\AppData\\Local\\Programs\\Python\\Python311\\Lib\\ssl.py\", line 517, in wrap_socket\n    return self.sslsocket_class._create(\n           ^^^^^^^^^^^^^^^^^^^^^^^^^^^^^\n  File \"C:\\Users\\shruti.y.agarwal\\AppData\\Local\\Programs\\Python\\Python311\\Lib\\ssl.py\", line 1104, in _create\n    self.do_handshake()\n  File \"C:\\Users\\shruti.y.agarwal\\AppData\\Local\\Programs\\Python\\Python311\\Lib\\ssl.py\", line 1382, in do_handshake\n    self._sslobj.do_handshake()\nssl.SSLCertVerificationError: [SSL: CERTIFICATE_VERIFY_FAILED] certificate verify failed: self-signed certificate in certificate chain (_ssl.c:1006)\n\nDuring handling of the above exception, another exception occurred:\n\nTraceback (most recent call last):\n  File \"C:\\Users\\shruti.y.agarwal\\AppData\\Local\\Programs\\Python\\Python311\\Lib\\site-packages\\urllib3\\connectionpool.py\", line 793, in urlopen\n    response = self._make_request(\n               ^^^^^^^^^^^^^^^^^^^\n  File \"C:\\Users\\shruti.y.agarwal\\AppData\\Local\\Programs\\Python\\Python311\\Lib\\site-packages\\urllib3\\connectionpool.py\", line 491, in _make_request\n    raise new_e\nurllib3.exceptions.SSLError: [SSL: CERTIFICATE_VERIFY_FAILED] certificate verify failed: self-signed certificate in certificate chain (_ssl.c:1006)\n\nThe above exception was the direct cause of the following exception:\n\nTraceback (most recent call last):\n  File \"C:\\Users\\shruti.y.agarwal\\AppData\\Local\\Programs\\Python\\Python311\\Lib\\site-packages\\requests\\adapters.py\", line 486, in send\n    resp = conn.urlopen(\n           ^^^^^^^^^^^^^\n  File \"C:\\Users\\shruti.y.agarwal\\AppData\\Local\\Programs\\Python\\Python311\\Lib\\site-packages\\urllib3\\connectionpool.py\", line 847, in urlopen\n    retries = retries.increment(\n              ^^^^^^^^^^^^^^^^^^\n  File \"C:\\Users\\shruti.y.agarwal\\AppData\\Local\\Programs\\Python\\Python311\\Lib\\site-packages\\urllib3\\util\\retry.py\", line 515, in increment\n    raise MaxRetryError(_pool, url, reason) from reason  # type: ignore[arg-type]\n    ^^^^^^^^^^^^^^^^^^^^^^^^^^^^^^^^^^^^^^^^^^^^^^^^^^^\nurllib3.exceptions.MaxRetryError: HTTPSConnectionPool(host='cdn-lfs.hf.co', port=443): Max retries exceeded with url: /repos/fb/9d/fb9d2cbe2e913461ae463cd35cb5a43ad1c5115ba9e913382f147e2f1ea66f3d/b4515a8e32f81ab4fef65e10891fdb188bc45c4195620d447bc3263e132d9de5?response-content-disposition=inline%3B+filename*%3DUTF-8%27%27model-00001-of-00002.safetensors%3B+filename%3D%22model-00001-of-00002.safetensors%22%3B&Expires=1750756953&Policy=eyJTdGF0ZW1lbnQiOlt7IkNvbmRpdGlvbiI6eyJEYXRlTGVzc1RoYW4iOnsiQVdTOkVwb2NoVGltZSI6MTc1MDc1Njk1M319LCJSZXNvdXJjZSI6Imh0dHBzOi8vY2RuLWxmcy5oZi5jby9yZXBvcy9mYi85ZC9mYjlkMmNiZTJlOTEzNDYxYWU0NjNjZDM1Y2I1YTQzYWQxYzUxMTViYTllOTEzMzgyZjE0N2UyZjFlYTY2ZjNkL2I0NTE1YThlMzJmODFhYjRmZWY2NWUxMDg5MWZkYjE4OGJjNDVjNDE5NTYyMGQ0NDdiYzMyNjNlMTMyZDlkZTU~cmVzcG9uc2UtY29udGVudC1kaXNwb3NpdGlvbj0qIn1dfQ__&Signature=EUO5KAIV~B6hFc974BSNTfFPJKMOkQX5Fg0UE3xJmPUAA4aEejOkA2WyckEzRGwoy18CsJ1~TMcFW1k9zsR-2Ow3onOgNrQxKvIWrzKAKOr87Ih9tLShtxLoD4GJuJt7rh~MTuc~GCY2XTQe9UguivchnGzD0mVLs-O7olt0-epOPuD1Rat2W8wZpaIJ0jBHtqgMjfHrGDeeukXDE9dB7ZGdwexYCwKs6A4wuVVF3tMdGmBZnkoje~jjo07mg~7IeanV4BA8zB2jcJsh2nImimx8WM-8vixVN716~5bkq0XlqcEESydbD3g1XCp1ScsCiHsFGuuB87O1Jiwd1Oc29A__&Key-Pair-Id=K3RPWS32NSSJCE (Caused by SSLError(SSLCertVerificationError(1, '[SSL: CERTIFICATE_VERIFY_FAILED] certificate verify failed: self-signed certificate in certificate chain (_ssl.c:1006)')))\n\nDuring handling of the above exception, another exception occurred:\n\nTraceback (most recent call last):\n  File \"C:\\Users\\shruti.y.agarwal\\AppData\\Local\\Programs\\Python\\Python311\\Lib\\site-packages\\transformers\\pipelines\\base.py\", line 290, in infer_framework_load_model\n    model = model_class.from_pretrained(model, **kwargs)\n            ^^^^^^^^^^^^^^^^^^^^^^^^^^^^^^^^^^^^^^^^^^^^\n  File \"C:\\Users\\shruti.y.agarwal\\AppData\\Local\\Programs\\Python\\Python311\\Lib\\site-packages\\transformers\\models\\auto\\auto_factory.py\", line 564, in from_pretrained\n    return model_class.from_pretrained(\n           ^^^^^^^^^^^^^^^^^^^^^^^^^^^^\n  File \"C:\\Users\\shruti.y.agarwal\\AppData\\Local\\Programs\\Python\\Python311\\Lib\\site-packages\\transformers\\modeling_utils.py\", line 262, in _wrapper\n    return func(*args, **kwargs)\n           ^^^^^^^^^^^^^^^^^^^^^\n  File \"C:\\Users\\shruti.y.agarwal\\AppData\\Local\\Programs\\Python\\Python311\\Lib\\site-packages\\transformers\\modeling_utils.py\", line 4022, in from_pretrained\n    resolved_archive_file, sharded_metadata = get_checkpoint_shard_files(\n                                              ^^^^^^^^^^^^^^^^^^^^^^^^^^^\n  File \"C:\\Users\\shruti.y.agarwal\\AppData\\Local\\Programs\\Python\\Python311\\Lib\\site-packages\\transformers\\utils\\hub.py\", line 1037, in get_checkpoint_shard_files\n    cached_filename = cached_file(\n                      ^^^^^^^^^^^^\n  File \"C:\\Users\\shruti.y.agarwal\\AppData\\Local\\Programs\\Python\\Python311\\Lib\\site-packages\\transformers\\utils\\hub.py\", line 342, in cached_file\n    resolved_file = hf_hub_download(\n                    ^^^^^^^^^^^^^^^^\n  File \"C:\\Users\\shruti.y.agarwal\\AppData\\Local\\Programs\\Python\\Python311\\Lib\\site-packages\\huggingface_hub\\utils\\_validators.py\", line 114, in _inner_fn\n    return fn(*args, **kwargs)\n           ^^^^^^^^^^^^^^^^^^^\n  File \"C:\\Users\\shruti.y.agarwal\\AppData\\Local\\Programs\\Python\\Python311\\Lib\\site-packages\\huggingface_hub\\file_download.py\", line 860, in hf_hub_download\n    return _hf_hub_download_to_cache_dir(\n           ^^^^^^^^^^^^^^^^^^^^^^^^^^^^^^\n  File \"C:\\Users\\shruti.y.agarwal\\AppData\\Local\\Programs\\Python\\Python311\\Lib\\site-packages\\huggingface_hub\\file_download.py\", line 1009, in _hf_hub_download_to_cache_dir\n    _download_to_tmp_and_move(\n  File \"C:\\Users\\shruti.y.agarwal\\AppData\\Local\\Programs\\Python\\Python311\\Lib\\site-packages\\huggingface_hub\\file_download.py\", line 1543, in _download_to_tmp_and_move\n    http_get(\n  File \"C:\\Users\\shruti.y.agarwal\\AppData\\Local\\Programs\\Python\\Python311\\Lib\\site-packages\\huggingface_hub\\file_download.py\", line 469, in http_get\n    return http_get(\n           ^^^^^^^^^\n  File \"C:\\Users\\shruti.y.agarwal\\AppData\\Local\\Programs\\Python\\Python311\\Lib\\site-packages\\huggingface_hub\\file_download.py\", line 369, in http_get\n    r = _request_wrapper(\n        ^^^^^^^^^^^^^^^^^\n  File \"C:\\Users\\shruti.y.agarwal\\AppData\\Local\\Programs\\Python\\Python311\\Lib\\site-packages\\huggingface_hub\\file_download.py\", line 301, in _request_wrapper\n    response = get_session().request(method=method, url=url, **params)\n               ^^^^^^^^^^^^^^^^^^^^^^^^^^^^^^^^^^^^^^^^^^^^^^^^^^^^^^^\n  File \"C:\\Users\\shruti.y.agarwal\\AppData\\Local\\Programs\\Python\\Python311\\Lib\\site-packages\\requests\\sessions.py\", line 589, in request\n    resp = self.send(prep, **send_kwargs)\n           ^^^^^^^^^^^^^^^^^^^^^^^^^^^^^^\n  File \"C:\\Users\\shruti.y.agarwal\\AppData\\Local\\Programs\\Python\\Python311\\Lib\\site-packages\\requests\\sessions.py\", line 703, in send\n    r = adapter.send(request, **kwargs)\n        ^^^^^^^^^^^^^^^^^^^^^^^^^^^^^^^\n  File \"C:\\Users\\shruti.y.agarwal\\AppData\\Local\\Programs\\Python\\Python311\\Lib\\site-packages\\huggingface_hub\\utils\\_http.py\", line 93, in send\n    return super().send(request, *args, **kwargs)\n           ^^^^^^^^^^^^^^^^^^^^^^^^^^^^^^^^^^^^^^\n  File \"C:\\Users\\shruti.y.agarwal\\AppData\\Local\\Programs\\Python\\Python311\\Lib\\site-packages\\requests\\adapters.py\", line 517, in send\n    raise SSLError(e, request=request)\nrequests.exceptions.SSLError: (MaxRetryError(\"HTTPSConnectionPool(host='cdn-lfs.hf.co', port=443): Max retries exceeded with url: /repos/fb/9d/fb9d2cbe2e913461ae463cd35cb5a43ad1c5115ba9e913382f147e2f1ea66f3d/b4515a8e32f81ab4fef65e10891fdb188bc45c4195620d447bc3263e132d9de5?response-content-disposition=inline%3B+filename*%3DUTF-8%27%27model-00001-of-00002.safetensors%3B+filename%3D%22model-00001-of-00002.safetensors%22%3B&Expires=1750756953&Policy=eyJTdGF0ZW1lbnQiOlt7IkNvbmRpdGlvbiI6eyJEYXRlTGVzc1RoYW4iOnsiQVdTOkVwb2NoVGltZSI6MTc1MDc1Njk1M319LCJSZXNvdXJjZSI6Imh0dHBzOi8vY2RuLWxmcy5oZi5jby9yZXBvcy9mYi85ZC9mYjlkMmNiZTJlOTEzNDYxYWU0NjNjZDM1Y2I1YTQzYWQxYzUxMTViYTllOTEzMzgyZjE0N2UyZjFlYTY2ZjNkL2I0NTE1YThlMzJmODFhYjRmZWY2NWUxMDg5MWZkYjE4OGJjNDVjNDE5NTYyMGQ0NDdiYzMyNjNlMTMyZDlkZTU~cmVzcG9uc2UtY29udGVudC1kaXNwb3NpdGlvbj0qIn1dfQ__&Signature=EUO5KAIV~B6hFc974BSNTfFPJKMOkQX5Fg0UE3xJmPUAA4aEejOkA2WyckEzRGwoy18CsJ1~TMcFW1k9zsR-2Ow3onOgNrQxKvIWrzKAKOr87Ih9tLShtxLoD4GJuJt7rh~MTuc~GCY2XTQe9UguivchnGzD0mVLs-O7olt0-epOPuD1Rat2W8wZpaIJ0jBHtqgMjfHrGDeeukXDE9dB7ZGdwexYCwKs6A4wuVVF3tMdGmBZnkoje~jjo07mg~7IeanV4BA8zB2jcJsh2nImimx8WM-8vixVN716~5bkq0XlqcEESydbD3g1XCp1ScsCiHsFGuuB87O1Jiwd1Oc29A__&Key-Pair-Id=K3RPWS32NSSJCE (Caused by SSLError(SSLCertVerificationError(1, '[SSL: CERTIFICATE_VERIFY_FAILED] certificate verify failed: self-signed certificate in certificate chain (_ssl.c:1006)')))\"), '(Request ID: 9c40653b-72a6-4ad0-b7c3-1655ade61299)')\n\nwhile loading with TFAutoModelForCausalLM, an error is thrown:\nTraceback (most recent call last):\n  File \"C:\\Users\\shruti.y.agarwal\\AppData\\Local\\Programs\\Python\\Python311\\Lib\\site-packages\\transformers\\pipelines\\base.py\", line 290, in infer_framework_load_model\n    model = model_class.from_pretrained(model, **kwargs)\n            ^^^^^^^^^^^^^^^^^^^^^^^^^^^^^^^^^^^^^^^^^^^^\n  File \"C:\\Users\\shruti.y.agarwal\\AppData\\Local\\Programs\\Python\\Python311\\Lib\\site-packages\\transformers\\models\\auto\\auto_factory.py\", line 567, in from_pretrained\n    raise ValueError(\nValueError: Unrecognized configuration class <class 'transformers.models.falcon.configuration_falcon.FalconConfig'> for this kind of AutoModel: TFAutoModelForCausalLM.\nModel type should be one of BertConfig, CamembertConfig, CTRLConfig, GPT2Config, GPT2Config, GPTJConfig, MistralConfig, OpenAIGPTConfig, OPTConfig, RemBertConfig, RobertaConfig, RobertaPreLayerNormConfig, RoFormerConfig, TransfoXLConfig, XGLMConfig, XLMConfig, XLMRobertaConfig, XLNetConfig.\n\nwhile loading with FalconForCausalLM, an error is thrown:\nTraceback (most recent call last):\n  File \"C:\\Users\\shruti.y.agarwal\\AppData\\Local\\Programs\\Python\\Python311\\Lib\\site-packages\\urllib3\\response.py\", line 737, in _error_catcher\n    yield\n  File \"C:\\Users\\shruti.y.agarwal\\AppData\\Local\\Programs\\Python\\Python311\\Lib\\site-packages\\urllib3\\response.py\", line 852, in _raw_read\n    data = self._fp_read(amt, read1=read1) if not fp_closed else b\"\"\n           ^^^^^^^^^^^^^^^^^^^^^^^^^^^^^^^\n  File \"C:\\Users\\shruti.y.agarwal\\AppData\\Local\\Programs\\Python\\Python311\\Lib\\site-packages\\urllib3\\response.py\", line 835, in _fp_read\n    return self._fp.read(amt) if amt is not None else self._fp.read()\n           ^^^^^^^^^^^^^^^^^^\n  File \"C:\\Users\\shruti.y.agarwal\\AppData\\Local\\Programs\\Python\\Python311\\Lib\\http\\client.py\", line 473, in read\n    s = self.fp.read(amt)\n        ^^^^^^^^^^^^^^^^^\n  File \"C:\\Users\\shruti.y.agarwal\\AppData\\Local\\Programs\\Python\\Python311\\Lib\\socket.py\", line 706, in readinto\n    return self._sock.recv_into(b)\n           ^^^^^^^^^^^^^^^^^^^^^^^\n  File \"C:\\Users\\shruti.y.agarwal\\AppData\\Local\\Programs\\Python\\Python311\\Lib\\ssl.py\", line 1314, in recv_into\n    return self.read(nbytes, buffer)\n           ^^^^^^^^^^^^^^^^^^^^^^^^^\n  File \"C:\\Users\\shruti.y.agarwal\\AppData\\Local\\Programs\\Python\\Python311\\Lib\\ssl.py\", line 1166, in read\n    return self._sslobj.read(len, buffer)\n           ^^^^^^^^^^^^^^^^^^^^^^^^^^^^^^\nTimeoutError: The read operation timed out\n\nThe above exception was the direct cause of the following exception:\n\nTraceback (most recent call last):\n  File \"C:\\Users\\shruti.y.agarwal\\AppData\\Local\\Programs\\Python\\Python311\\Lib\\site-packages\\requests\\models.py\", line 816, in generate\n    yield from self.raw.stream(chunk_size, decode_content=True)\n  File \"C:\\Users\\shruti.y.agarwal\\AppData\\Local\\Programs\\Python\\Python311\\Lib\\site-packages\\urllib3\\response.py\", line 1033, in stream\n    data = self.read(amt=amt, decode_content=decode_content)\n           ^^^^^^^^^^^^^^^^^^^^^^^^^^^^^^^^^^^^^^^^^^^^^^^^^\n  File \"C:\\Users\\shruti.y.agarwal\\AppData\\Local\\Programs\\Python\\Python311\\Lib\\site-packages\\urllib3\\response.py\", line 925, in read\n    data = self._raw_read(amt)\n           ^^^^^^^^^^^^^^^^^^^\n  File \"C:\\Users\\shruti.y.agarwal\\AppData\\Local\\Programs\\Python\\Python311\\Lib\\site-packages\\urllib3\\response.py\", line 851, in _raw_read\n    with self._error_catcher():\n  File \"C:\\Users\\shruti.y.agarwal\\AppData\\Local\\Programs\\Python\\Python311\\Lib\\contextlib.py\", line 158, in __exit__\n    self.gen.throw(typ, value, traceback)\n  File \"C:\\Users\\shruti.y.agarwal\\AppData\\Local\\Programs\\Python\\Python311\\Lib\\site-packages\\urllib3\\response.py\", line 742, in _error_catcher\n    raise ReadTimeoutError(self._pool, None, \"Read timed out.\") from e  # type: ignore[arg-type]\n    ^^^^^^^^^^^^^^^^^^^^^^^^^^^^^^^^^^^^^^^^^^^^^^^^^^^^^^^^^^^^^^^^^^\nurllib3.exceptions.ReadTimeoutError: HTTPSConnectionPool(host='cdn-lfs.hf.co', port=443): Read timed out.\n\nDuring handling of the above exception, another exception occurred:\n\nTraceback (most recent call last):\n  File \"C:\\Users\\shruti.y.agarwal\\AppData\\Local\\Programs\\Python\\Python311\\Lib\\site-packages\\huggingface_hub\\file_download.py\", line 452, in http_get\n    for chunk in r.iter_content(chunk_size=constants.DOWNLOAD_CHUNK_SIZE):\n  File \"C:\\Users\\shruti.y.agarwal\\AppData\\Local\\Programs\\Python\\Python311\\Lib\\site-packages\\requests\\models.py\", line 822, in generate\n    raise ConnectionError(e)\nrequests.exceptions.ConnectionError: HTTPSConnectionPool(host='cdn-lfs.hf.co', port=443): Read timed out.\n\nDuring handling of the above exception, another exception occurred:\n\nTraceback (most recent call last):\n  File \"C:\\Users\\shruti.y.agarwal\\AppData\\Local\\Programs\\Python\\Python311\\Lib\\site-packages\\urllib3\\response.py\", line 737, in _error_catcher\n    yield\n  File \"C:\\Users\\shruti.y.agarwal\\AppData\\Local\\Programs\\Python\\Python311\\Lib\\site-packages\\urllib3\\response.py\", line 852, in _raw_read\n    data = self._fp_read(amt, read1=read1) if not fp_closed else b\"\"\n           ^^^^^^^^^^^^^^^^^^^^^^^^^^^^^^^\n  File \"C:\\Users\\shruti.y.agarwal\\AppData\\Local\\Programs\\Python\\Python311\\Lib\\site-packages\\urllib3\\response.py\", line 835, in _fp_read\n    return self._fp.read(amt) if amt is not None else self._fp.read()\n           ^^^^^^^^^^^^^^^^^^\n  File \"C:\\Users\\shruti.y.agarwal\\AppData\\Local\\Programs\\Python\\Python311\\Lib\\http\\client.py\", line 473, in read\n    s = self.fp.read(amt)\n        ^^^^^^^^^^^^^^^^^\n  File \"C:\\Users\\shruti.y.agarwal\\AppData\\Local\\Programs\\Python\\Python311\\Lib\\socket.py\", line 706, in readinto\n    return self._sock.recv_into(b)\n           ^^^^^^^^^^^^^^^^^^^^^^^\n  File \"C:\\Users\\shruti.y.agarwal\\AppData\\Local\\Programs\\Python\\Python311\\Lib\\ssl.py\", line 1314, in recv_into\n    return self.read(nbytes, buffer)\n           ^^^^^^^^^^^^^^^^^^^^^^^^^\n  File \"C:\\Users\\shruti.y.agarwal\\AppData\\Local\\Programs\\Python\\Python311\\Lib\\ssl.py\", line 1166, in read\n    return self._sslobj.read(len, buffer)\n           ^^^^^^^^^^^^^^^^^^^^^^^^^^^^^^\nTimeoutError: The read operation timed out\n\nThe above exception was the direct cause of the following exception:\n\nTraceback (most recent call last):\n  File \"C:\\Users\\shruti.y.agarwal\\AppData\\Local\\Programs\\Python\\Python311\\Lib\\site-packages\\requests\\models.py\", line 816, in generate\n    yield from self.raw.stream(chunk_size, decode_content=True)\n  File \"C:\\Users\\shruti.y.agarwal\\AppData\\Local\\Programs\\Python\\Python311\\Lib\\site-packages\\urllib3\\response.py\", line 1033, in stream\n    data = self.read(amt=amt, decode_content=decode_content)\n           ^^^^^^^^^^^^^^^^^^^^^^^^^^^^^^^^^^^^^^^^^^^^^^^^^\n  File \"C:\\Users\\shruti.y.agarwal\\AppData\\Local\\Programs\\Python\\Python311\\Lib\\site-packages\\urllib3\\response.py\", line 925, in read\n    data = self._raw_read(amt)\n           ^^^^^^^^^^^^^^^^^^^\n  File \"C:\\Users\\shruti.y.agarwal\\AppData\\Local\\Programs\\Python\\Python311\\Lib\\site-packages\\urllib3\\response.py\", line 851, in _raw_read\n    with self._error_catcher():\n  File \"C:\\Users\\shruti.y.agarwal\\AppData\\Local\\Programs\\Python\\Python311\\Lib\\contextlib.py\", line 158, in __exit__\n    self.gen.throw(typ, value, traceback)\n  File \"C:\\Users\\shruti.y.agarwal\\AppData\\Local\\Programs\\Python\\Python311\\Lib\\site-packages\\urllib3\\response.py\", line 742, in _error_catcher\n    raise ReadTimeoutError(self._pool, None, \"Read timed out.\") from e  # type: ignore[arg-type]\n    ^^^^^^^^^^^^^^^^^^^^^^^^^^^^^^^^^^^^^^^^^^^^^^^^^^^^^^^^^^^^^^^^^^\nurllib3.exceptions.ReadTimeoutError: HTTPSConnectionPool(host='cdn-lfs.hf.co', port=443): Read timed out.\n\nDuring handling of the above exception, another exception occurred:\n\nTraceback (most recent call last):\n  File \"C:\\Users\\shruti.y.agarwal\\AppData\\Local\\Programs\\Python\\Python311\\Lib\\site-packages\\huggingface_hub\\file_download.py\", line 452, in http_get\n    for chunk in r.iter_content(chunk_size=constants.DOWNLOAD_CHUNK_SIZE):\n  File \"C:\\Users\\shruti.y.agarwal\\AppData\\Local\\Programs\\Python\\Python311\\Lib\\site-packages\\requests\\models.py\", line 822, in generate\n    raise ConnectionError(e)\nrequests.exceptions.ConnectionError: HTTPSConnectionPool(host='cdn-lfs.hf.co', port=443): Read timed out.\n\nDuring handling of the above exception, another exception occurred:\n\nTraceback (most recent call last):\n  File \"C:\\Users\\shruti.y.agarwal\\AppData\\Local\\Programs\\Python\\Python311\\Lib\\site-packages\\huggingface_hub\\utils\\_http.py\", line 406, in hf_raise_for_status\n    response.raise_for_status()\n  File \"C:\\Users\\shruti.y.agarwal\\AppData\\Local\\Programs\\Python\\Python311\\Lib\\site-packages\\requests\\models.py\", line 1021, in raise_for_status\n    raise HTTPError(http_error_msg, response=self)\nrequests.exceptions.HTTPError: 403 Client Error: Forbidden for url: https://cdn-lfs.hf.co/repos/fb/9d/fb9d2cbe2e913461ae463cd35cb5a43ad1c5115ba9e913382f147e2f1ea66f3d/b4515a8e32f81ab4fef65e10891fdb188bc45c4195620d447bc3263e132d9de5?response-content-disposition=inline%3B+filename*%3DUTF-8%27%27model-00001-of-00002.safetensors%3B+filename%3D%22model-00001-of-00002.safetensors%22%3B&Expires=1750757338&Policy=eyJTdGF0ZW1lbnQiOlt7IkNvbmRpdGlvbiI6eyJEYXRlTGVzc1RoYW4iOnsiQVdTOkVwb2NoVGltZSI6MTc1MDc1NzMzOH19LCJSZXNvdXJjZSI6Imh0dHBzOi8vY2RuLWxmcy5oZi5jby9yZXBvcy9mYi85ZC9mYjlkMmNiZTJlOTEzNDYxYWU0NjNjZDM1Y2I1YTQzYWQxYzUxMTViYTllOTEzMzgyZjE0N2UyZjFlYTY2ZjNkL2I0NTE1YThlMzJmODFhYjRmZWY2NWUxMDg5MWZkYjE4OGJjNDVjNDE5NTYyMGQ0NDdiYzMyNjNlMTMyZDlkZTU~cmVzcG9uc2UtY29udGVudC1kaXNwb3NpdGlvbj0qIn1dfQ__&Signature=wDi5JiAcAK7DqyCV3CRR~bv6q822TzT~Qw94o3T3gpf6ZLFRSgPWwfE--~c5AMMcNSyse0AKncH0A3BjGMCIvwdrEk5vRs--42YixcuOcmG-B0J28a2eU85LVMEtn-S4wDtmYwbiT8xxDfheRgmWwan6KO5W-2-h2klzVku9cKlj6YEiovx3-NOaPxBXlv02zLg~s6D4RxM6lAr~XThxgXomDvYuDUTsxtxpz7fM40rExh6akDTbIfOmi0-pm6oVpfrB1mhd1x21EzzfmKFjXJgHS7bVyyDk7Pop2K7JUXcL8LJ-Q96ihWlWvDJrZlVyPo5dYdbsLM3~fWYo8fv8SQ__&Key-Pair-Id=K3RPWS32NSSJCE\n\nThe above exception was the direct cause of the following exception:\n\nTraceback (most recent call last):\n  File \"C:\\Users\\shruti.y.agarwal\\AppData\\Local\\Programs\\Python\\Python311\\Lib\\site-packages\\transformers\\utils\\hub.py\", line 342, in cached_file\n    resolved_file = hf_hub_download(\n                    ^^^^^^^^^^^^^^^^\n  File \"C:\\Users\\shruti.y.agarwal\\AppData\\Local\\Programs\\Python\\Python311\\Lib\\site-packages\\huggingface_hub\\utils\\_validators.py\", line 114, in _inner_fn\n    return fn(*args, **kwargs)\n           ^^^^^^^^^^^^^^^^^^^\n  File \"C:\\Users\\shruti.y.agarwal\\AppData\\Local\\Programs\\Python\\Python311\\Lib\\site-packages\\huggingface_hub\\file_download.py\", line 860, in hf_hub_download\n    return _hf_hub_download_to_cache_dir(\n           ^^^^^^^^^^^^^^^^^^^^^^^^^^^^^^\n  File \"C:\\Users\\shruti.y.agarwal\\AppData\\Local\\Programs\\Python\\Python311\\Lib\\site-packages\\huggingface_hub\\file_download.py\", line 1009, in _hf_hub_download_to_cache_dir\n    _download_to_tmp_and_move(\n  File \"C:\\Users\\shruti.y.agarwal\\AppData\\Local\\Programs\\Python\\Python311\\Lib\\site-packages\\huggingface_hub\\file_download.py\", line 1543, in _download_to_tmp_and_move\n    http_get(\n  File \"C:\\Users\\shruti.y.agarwal\\AppData\\Local\\Programs\\Python\\Python311\\Lib\\site-packages\\huggingface_hub\\file_download.py\", line 469, in http_get\n    return http_get(\n           ^^^^^^^^^\n  File \"C:\\Users\\shruti.y.agarwal\\AppData\\Local\\Programs\\Python\\Python311\\Lib\\site-packages\\huggingface_hub\\file_download.py\", line 469, in http_get\n    return http_get(\n           ^^^^^^^^^\n  File \"C:\\Users\\shruti.y.agarwal\\AppData\\Local\\Programs\\Python\\Python311\\Lib\\site-packages\\huggingface_hub\\file_download.py\", line 369, in http_get\n    r = _request_wrapper(\n        ^^^^^^^^^^^^^^^^^\n  File \"C:\\Users\\shruti.y.agarwal\\AppData\\Local\\Programs\\Python\\Python311\\Lib\\site-packages\\huggingface_hub\\file_download.py\", line 302, in _request_wrapper\n    hf_raise_for_status(response)\n  File \"C:\\Users\\shruti.y.agarwal\\AppData\\Local\\Programs\\Python\\Python311\\Lib\\site-packages\\huggingface_hub\\utils\\_http.py\", line 468, in hf_raise_for_status\n    raise _format(HfHubHTTPError, message, response) from e\nhuggingface_hub.errors.HfHubHTTPError: 403 Forbidden: None.\nCannot access content at: https://cdn-lfs.hf.co/repos/fb/9d/fb9d2cbe2e913461ae463cd35cb5a43ad1c5115ba9e913382f147e2f1ea66f3d/b4515a8e32f81ab4fef65e10891fdb188bc45c4195620d447bc3263e132d9de5?response-content-disposition=inline%3B+filename*%3DUTF-8%27%27model-00001-of-00002.safetensors%3B+filename%3D%22model-00001-of-00002.safetensors%22%3B&Expires=1750757338&Policy=eyJTdGF0ZW1lbnQiOlt7IkNvbmRpdGlvbiI6eyJEYXRlTGVzc1RoYW4iOnsiQVdTOkVwb2NoVGltZSI6MTc1MDc1NzMzOH19LCJSZXNvdXJjZSI6Imh0dHBzOi8vY2RuLWxmcy5oZi5jby9yZXBvcy9mYi85ZC9mYjlkMmNiZTJlOTEzNDYxYWU0NjNjZDM1Y2I1YTQzYWQxYzUxMTViYTllOTEzMzgyZjE0N2UyZjFlYTY2ZjNkL2I0NTE1YThlMzJmODFhYjRmZWY2NWUxMDg5MWZkYjE4OGJjNDVjNDE5NTYyMGQ0NDdiYzMyNjNlMTMyZDlkZTU~cmVzcG9uc2UtY29udGVudC1kaXNwb3NpdGlvbj0qIn1dfQ__&Signature=wDi5JiAcAK7DqyCV3CRR~bv6q822TzT~Qw94o3T3gpf6ZLFRSgPWwfE--~c5AMMcNSyse0AKncH0A3BjGMCIvwdrEk5vRs--42YixcuOcmG-B0J28a2eU85LVMEtn-S4wDtmYwbiT8xxDfheRgmWwan6KO5W-2-h2klzVku9cKlj6YEiovx3-NOaPxBXlv02zLg~s6D4RxM6lAr~XThxgXomDvYuDUTsxtxpz7fM40rExh6akDTbIfOmi0-pm6oVpfrB1mhd1x21EzzfmKFjXJgHS7bVyyDk7Pop2K7JUXcL8LJ-Q96ihWlWvDJrZlVyPo5dYdbsLM3~fWYo8fv8SQ__&Key-Pair-Id=K3RPWS32NSSJCE.\nMake sure your token has the correct permissions.\n<?xml version=\"1.0\" encoding=\"UTF-8\"?><Error><Code>AccessDenied</Code><Message>Access denied</Message></Error>\n\nDuring handling of the above exception, another exception occurred:\n\nTraceback (most recent call last):\n  File \"C:\\Users\\shruti.y.agarwal\\AppData\\Local\\Programs\\Python\\Python311\\Lib\\site-packages\\transformers\\pipelines\\base.py\", line 290, in infer_framework_load_model\n    model = model_class.from_pretrained(model, **kwargs)\n            ^^^^^^^^^^^^^^^^^^^^^^^^^^^^^^^^^^^^^^^^^^^^\n  File \"C:\\Users\\shruti.y.agarwal\\AppData\\Local\\Programs\\Python\\Python311\\Lib\\site-packages\\transformers\\modeling_utils.py\", line 262, in _wrapper\n    return func(*args, **kwargs)\n           ^^^^^^^^^^^^^^^^^^^^^\n  File \"C:\\Users\\shruti.y.agarwal\\AppData\\Local\\Programs\\Python\\Python311\\Lib\\site-packages\\transformers\\modeling_utils.py\", line 4022, in from_pretrained\n    resolved_archive_file, sharded_metadata = get_checkpoint_shard_files(\n                                              ^^^^^^^^^^^^^^^^^^^^^^^^^^^\n  File \"C:\\Users\\shruti.y.agarwal\\AppData\\Local\\Programs\\Python\\Python311\\Lib\\site-packages\\transformers\\utils\\hub.py\", line 1037, in get_checkpoint_shard_files\n    cached_filename = cached_file(\n                      ^^^^^^^^^^^^\n  File \"C:\\Users\\shruti.y.agarwal\\AppData\\Local\\Programs\\Python\\Python311\\Lib\\site-packages\\transformers\\utils\\hub.py\", line 406, in cached_file\n    raise EnvironmentError(f\"There was a specific connection error when trying to load {path_or_repo_id}:\\n{err}\")\nOSError: There was a specific connection error when trying to load tiiuae/falcon-7b-instruct:\n403 Forbidden: None.\nCannot access content at: https://cdn-lfs.hf.co/repos/fb/9d/fb9d2cbe2e913461ae463cd35cb5a43ad1c5115ba9e913382f147e2f1ea66f3d/b4515a8e32f81ab4fef65e10891fdb188bc45c4195620d447bc3263e132d9de5?response-content-disposition=inline%3B+filename*%3DUTF-8%27%27model-00001-of-00002.safetensors%3B+filename%3D%22model-00001-of-00002.safetensors%22%3B&Expires=1750757338&Policy=eyJTdGF0ZW1lbnQiOlt7IkNvbmRpdGlvbiI6eyJEYXRlTGVzc1RoYW4iOnsiQVdTOkVwb2NoVGltZSI6MTc1MDc1NzMzOH19LCJSZXNvdXJjZSI6Imh0dHBzOi8vY2RuLWxmcy5oZi5jby9yZXBvcy9mYi85ZC9mYjlkMmNiZTJlOTEzNDYxYWU0NjNjZDM1Y2I1YTQzYWQxYzUxMTViYTllOTEzMzgyZjE0N2UyZjFlYTY2ZjNkL2I0NTE1YThlMzJmODFhYjRmZWY2NWUxMDg5MWZkYjE4OGJjNDVjNDE5NTYyMGQ0NDdiYzMyNjNlMTMyZDlkZTU~cmVzcG9uc2UtY29udGVudC1kaXNwb3NpdGlvbj0qIn1dfQ__&Signature=wDi5JiAcAK7DqyCV3CRR~bv6q822TzT~Qw94o3T3gpf6ZLFRSgPWwfE--~c5AMMcNSyse0AKncH0A3BjGMCIvwdrEk5vRs--42YixcuOcmG-B0J28a2eU85LVMEtn-S4wDtmYwbiT8xxDfheRgmWwan6KO5W-2-h2klzVku9cKlj6YEiovx3-NOaPxBXlv02zLg~s6D4RxM6lAr~XThxgXomDvYuDUTsxtxpz7fM40rExh6akDTbIfOmi0-pm6oVpfrB1mhd1x21EzzfmKFjXJgHS7bVyyDk7Pop2K7JUXcL8LJ-Q96ihWlWvDJrZlVyPo5dYdbsLM3~fWYo8fv8SQ__&Key-Pair-Id=K3RPWS32NSSJCE.\nMake sure your token has the correct permissions.\n<?xml version=\"1.0\" encoding=\"UTF-8\"?><Error><Code>AccessDenied</Code><Message>Access denied</Message></Error>\n\n\n",
     "output_type": "error",
     "traceback": [
      "\u001b[1;31m---------------------------------------------------------------------------\u001b[0m",
      "\u001b[1;31mValueError\u001b[0m                                Traceback (most recent call last)",
      "Cell \u001b[1;32mIn[22], line 12\u001b[0m\n\u001b[0;32m      9\u001b[0m db_hf \u001b[38;5;241m=\u001b[39m FAISS\u001b[38;5;241m.\u001b[39mfrom_documents(docs, embedding)\n\u001b[0;32m     11\u001b[0m \u001b[38;5;66;03m# Load a local language model for generation\u001b[39;00m\n\u001b[1;32m---> 12\u001b[0m generator \u001b[38;5;241m=\u001b[39m \u001b[43mpipeline\u001b[49m\u001b[43m(\u001b[49m\u001b[38;5;124;43m\"\u001b[39;49m\u001b[38;5;124;43mtext-generation\u001b[39;49m\u001b[38;5;124;43m\"\u001b[39;49m\u001b[43m,\u001b[49m\u001b[43m \u001b[49m\u001b[43mmodel\u001b[49m\u001b[38;5;241;43m=\u001b[39;49m\u001b[38;5;124;43m\"\u001b[39;49m\u001b[38;5;124;43mtiiuae/falcon-7b-instruct\u001b[39;49m\u001b[38;5;124;43m\"\u001b[39;49m\u001b[43m,\u001b[49m\u001b[43m \u001b[49m\u001b[43mdevice\u001b[49m\u001b[38;5;241;43m=\u001b[39;49m\u001b[38;5;241;43m0\u001b[39;49m\u001b[43m)\u001b[49m\n\u001b[0;32m     13\u001b[0m llm \u001b[38;5;241m=\u001b[39m HuggingFacePipeline(pipeline\u001b[38;5;241m=\u001b[39mgenerator)\n\u001b[0;32m     15\u001b[0m \u001b[38;5;66;03m# Create retrieval chain\u001b[39;00m\n",
      "File \u001b[1;32m~\\AppData\\Local\\Programs\\Python\\Python311\\Lib\\site-packages\\transformers\\pipelines\\__init__.py:940\u001b[0m, in \u001b[0;36mpipeline\u001b[1;34m(task, model, config, tokenizer, feature_extractor, image_processor, processor, framework, revision, use_fast, token, device, device_map, torch_dtype, trust_remote_code, model_kwargs, pipeline_class, **kwargs)\u001b[0m\n\u001b[0;32m    938\u001b[0m \u001b[38;5;28;01mif\u001b[39;00m \u001b[38;5;28misinstance\u001b[39m(model, \u001b[38;5;28mstr\u001b[39m) \u001b[38;5;129;01mor\u001b[39;00m framework \u001b[38;5;129;01mis\u001b[39;00m \u001b[38;5;28;01mNone\u001b[39;00m:\n\u001b[0;32m    939\u001b[0m     model_classes \u001b[38;5;241m=\u001b[39m {\u001b[38;5;124m\"\u001b[39m\u001b[38;5;124mtf\u001b[39m\u001b[38;5;124m\"\u001b[39m: targeted_task[\u001b[38;5;124m\"\u001b[39m\u001b[38;5;124mtf\u001b[39m\u001b[38;5;124m\"\u001b[39m], \u001b[38;5;124m\"\u001b[39m\u001b[38;5;124mpt\u001b[39m\u001b[38;5;124m\"\u001b[39m: targeted_task[\u001b[38;5;124m\"\u001b[39m\u001b[38;5;124mpt\u001b[39m\u001b[38;5;124m\"\u001b[39m]}\n\u001b[1;32m--> 940\u001b[0m     framework, model \u001b[38;5;241m=\u001b[39m \u001b[43minfer_framework_load_model\u001b[49m\u001b[43m(\u001b[49m\n\u001b[0;32m    941\u001b[0m \u001b[43m        \u001b[49m\u001b[43mmodel\u001b[49m\u001b[43m,\u001b[49m\n\u001b[0;32m    942\u001b[0m \u001b[43m        \u001b[49m\u001b[43mmodel_classes\u001b[49m\u001b[38;5;241;43m=\u001b[39;49m\u001b[43mmodel_classes\u001b[49m\u001b[43m,\u001b[49m\n\u001b[0;32m    943\u001b[0m \u001b[43m        \u001b[49m\u001b[43mconfig\u001b[49m\u001b[38;5;241;43m=\u001b[39;49m\u001b[43mconfig\u001b[49m\u001b[43m,\u001b[49m\n\u001b[0;32m    944\u001b[0m \u001b[43m        \u001b[49m\u001b[43mframework\u001b[49m\u001b[38;5;241;43m=\u001b[39;49m\u001b[43mframework\u001b[49m\u001b[43m,\u001b[49m\n\u001b[0;32m    945\u001b[0m \u001b[43m        \u001b[49m\u001b[43mtask\u001b[49m\u001b[38;5;241;43m=\u001b[39;49m\u001b[43mtask\u001b[49m\u001b[43m,\u001b[49m\n\u001b[0;32m    946\u001b[0m \u001b[43m        \u001b[49m\u001b[38;5;241;43m*\u001b[39;49m\u001b[38;5;241;43m*\u001b[39;49m\u001b[43mhub_kwargs\u001b[49m\u001b[43m,\u001b[49m\n\u001b[0;32m    947\u001b[0m \u001b[43m        \u001b[49m\u001b[38;5;241;43m*\u001b[39;49m\u001b[38;5;241;43m*\u001b[39;49m\u001b[43mmodel_kwargs\u001b[49m\u001b[43m,\u001b[49m\n\u001b[0;32m    948\u001b[0m \u001b[43m    \u001b[49m\u001b[43m)\u001b[49m\n\u001b[0;32m    950\u001b[0m model_config \u001b[38;5;241m=\u001b[39m model\u001b[38;5;241m.\u001b[39mconfig\n\u001b[0;32m    951\u001b[0m hub_kwargs[\u001b[38;5;124m\"\u001b[39m\u001b[38;5;124m_commit_hash\u001b[39m\u001b[38;5;124m\"\u001b[39m] \u001b[38;5;241m=\u001b[39m model\u001b[38;5;241m.\u001b[39mconfig\u001b[38;5;241m.\u001b[39m_commit_hash\n",
      "File \u001b[1;32m~\\AppData\\Local\\Programs\\Python\\Python311\\Lib\\site-packages\\transformers\\pipelines\\base.py:303\u001b[0m, in \u001b[0;36minfer_framework_load_model\u001b[1;34m(model, config, model_classes, task, framework, **model_kwargs)\u001b[0m\n\u001b[0;32m    301\u001b[0m         \u001b[38;5;28;01mfor\u001b[39;00m class_name, trace \u001b[38;5;129;01min\u001b[39;00m all_traceback\u001b[38;5;241m.\u001b[39mitems():\n\u001b[0;32m    302\u001b[0m             error \u001b[38;5;241m+\u001b[39m\u001b[38;5;241m=\u001b[39m \u001b[38;5;124mf\u001b[39m\u001b[38;5;124m\"\u001b[39m\u001b[38;5;124mwhile loading with \u001b[39m\u001b[38;5;132;01m{\u001b[39;00mclass_name\u001b[38;5;132;01m}\u001b[39;00m\u001b[38;5;124m, an error is thrown:\u001b[39m\u001b[38;5;130;01m\\n\u001b[39;00m\u001b[38;5;132;01m{\u001b[39;00mtrace\u001b[38;5;132;01m}\u001b[39;00m\u001b[38;5;130;01m\\n\u001b[39;00m\u001b[38;5;124m\"\u001b[39m\n\u001b[1;32m--> 303\u001b[0m         \u001b[38;5;28;01mraise\u001b[39;00m \u001b[38;5;167;01mValueError\u001b[39;00m(\n\u001b[0;32m    304\u001b[0m             \u001b[38;5;124mf\u001b[39m\u001b[38;5;124m\"\u001b[39m\u001b[38;5;124mCould not load model \u001b[39m\u001b[38;5;132;01m{\u001b[39;00mmodel\u001b[38;5;132;01m}\u001b[39;00m\u001b[38;5;124m with any of the following classes: \u001b[39m\u001b[38;5;132;01m{\u001b[39;00mclass_tuple\u001b[38;5;132;01m}\u001b[39;00m\u001b[38;5;124m. See the original errors:\u001b[39m\u001b[38;5;130;01m\\n\u001b[39;00m\u001b[38;5;130;01m\\n\u001b[39;00m\u001b[38;5;132;01m{\u001b[39;00merror\u001b[38;5;132;01m}\u001b[39;00m\u001b[38;5;130;01m\\n\u001b[39;00m\u001b[38;5;124m\"\u001b[39m\n\u001b[0;32m    305\u001b[0m         )\n\u001b[0;32m    307\u001b[0m \u001b[38;5;28;01mif\u001b[39;00m framework \u001b[38;5;129;01mis\u001b[39;00m \u001b[38;5;28;01mNone\u001b[39;00m:\n\u001b[0;32m    308\u001b[0m     framework \u001b[38;5;241m=\u001b[39m infer_framework(model\u001b[38;5;241m.\u001b[39m\u001b[38;5;18m__class__\u001b[39m)\n",
      "\u001b[1;31mValueError\u001b[0m: Could not load model tiiuae/falcon-7b-instruct with any of the following classes: (<class 'transformers.models.auto.modeling_auto.AutoModelForCausalLM'>, <class 'transformers.models.auto.modeling_tf_auto.TFAutoModelForCausalLM'>, <class 'transformers.models.falcon.modeling_falcon.FalconForCausalLM'>). See the original errors:\n\nwhile loading with AutoModelForCausalLM, an error is thrown:\nTraceback (most recent call last):\n  File \"C:\\Users\\shruti.y.agarwal\\AppData\\Local\\Programs\\Python\\Python311\\Lib\\site-packages\\urllib3\\response.py\", line 737, in _error_catcher\n    yield\n  File \"C:\\Users\\shruti.y.agarwal\\AppData\\Local\\Programs\\Python\\Python311\\Lib\\site-packages\\urllib3\\response.py\", line 852, in _raw_read\n    data = self._fp_read(amt, read1=read1) if not fp_closed else b\"\"\n           ^^^^^^^^^^^^^^^^^^^^^^^^^^^^^^^\n  File \"C:\\Users\\shruti.y.agarwal\\AppData\\Local\\Programs\\Python\\Python311\\Lib\\site-packages\\urllib3\\response.py\", line 835, in _fp_read\n    return self._fp.read(amt) if amt is not None else self._fp.read()\n           ^^^^^^^^^^^^^^^^^^\n  File \"C:\\Users\\shruti.y.agarwal\\AppData\\Local\\Programs\\Python\\Python311\\Lib\\http\\client.py\", line 473, in read\n    s = self.fp.read(amt)\n        ^^^^^^^^^^^^^^^^^\n  File \"C:\\Users\\shruti.y.agarwal\\AppData\\Local\\Programs\\Python\\Python311\\Lib\\socket.py\", line 706, in readinto\n    return self._sock.recv_into(b)\n           ^^^^^^^^^^^^^^^^^^^^^^^\n  File \"C:\\Users\\shruti.y.agarwal\\AppData\\Local\\Programs\\Python\\Python311\\Lib\\ssl.py\", line 1314, in recv_into\n    return self.read(nbytes, buffer)\n           ^^^^^^^^^^^^^^^^^^^^^^^^^\n  File \"C:\\Users\\shruti.y.agarwal\\AppData\\Local\\Programs\\Python\\Python311\\Lib\\ssl.py\", line 1166, in read\n    return self._sslobj.read(len, buffer)\n           ^^^^^^^^^^^^^^^^^^^^^^^^^^^^^^\nTimeoutError: The read operation timed out\n\nThe above exception was the direct cause of the following exception:\n\nTraceback (most recent call last):\n  File \"C:\\Users\\shruti.y.agarwal\\AppData\\Local\\Programs\\Python\\Python311\\Lib\\site-packages\\requests\\models.py\", line 816, in generate\n    yield from self.raw.stream(chunk_size, decode_content=True)\n  File \"C:\\Users\\shruti.y.agarwal\\AppData\\Local\\Programs\\Python\\Python311\\Lib\\site-packages\\urllib3\\response.py\", line 1033, in stream\n    data = self.read(amt=amt, decode_content=decode_content)\n           ^^^^^^^^^^^^^^^^^^^^^^^^^^^^^^^^^^^^^^^^^^^^^^^^^\n  File \"C:\\Users\\shruti.y.agarwal\\AppData\\Local\\Programs\\Python\\Python311\\Lib\\site-packages\\urllib3\\response.py\", line 925, in read\n    data = self._raw_read(amt)\n           ^^^^^^^^^^^^^^^^^^^\n  File \"C:\\Users\\shruti.y.agarwal\\AppData\\Local\\Programs\\Python\\Python311\\Lib\\site-packages\\urllib3\\response.py\", line 851, in _raw_read\n    with self._error_catcher():\n  File \"C:\\Users\\shruti.y.agarwal\\AppData\\Local\\Programs\\Python\\Python311\\Lib\\contextlib.py\", line 158, in __exit__\n    self.gen.throw(typ, value, traceback)\n  File \"C:\\Users\\shruti.y.agarwal\\AppData\\Local\\Programs\\Python\\Python311\\Lib\\site-packages\\urllib3\\response.py\", line 742, in _error_catcher\n    raise ReadTimeoutError(self._pool, None, \"Read timed out.\") from e  # type: ignore[arg-type]\n    ^^^^^^^^^^^^^^^^^^^^^^^^^^^^^^^^^^^^^^^^^^^^^^^^^^^^^^^^^^^^^^^^^^\nurllib3.exceptions.ReadTimeoutError: HTTPSConnectionPool(host='cdn-lfs.hf.co', port=443): Read timed out.\n\nDuring handling of the above exception, another exception occurred:\n\nTraceback (most recent call last):\n  File \"C:\\Users\\shruti.y.agarwal\\AppData\\Local\\Programs\\Python\\Python311\\Lib\\site-packages\\huggingface_hub\\file_download.py\", line 452, in http_get\n    for chunk in r.iter_content(chunk_size=constants.DOWNLOAD_CHUNK_SIZE):\n  File \"C:\\Users\\shruti.y.agarwal\\AppData\\Local\\Programs\\Python\\Python311\\Lib\\site-packages\\requests\\models.py\", line 822, in generate\n    raise ConnectionError(e)\nrequests.exceptions.ConnectionError: HTTPSConnectionPool(host='cdn-lfs.hf.co', port=443): Read timed out.\n\nDuring handling of the above exception, another exception occurred:\n\nTraceback (most recent call last):\n  File \"C:\\Users\\shruti.y.agarwal\\AppData\\Local\\Programs\\Python\\Python311\\Lib\\site-packages\\urllib3\\connectionpool.py\", line 467, in _make_request\n    self._validate_conn(conn)\n  File \"C:\\Users\\shruti.y.agarwal\\AppData\\Local\\Programs\\Python\\Python311\\Lib\\site-packages\\urllib3\\connectionpool.py\", line 1099, in _validate_conn\n    conn.connect()\n  File \"C:\\Users\\shruti.y.agarwal\\AppData\\Local\\Programs\\Python\\Python311\\Lib\\site-packages\\urllib3\\connection.py\", line 653, in connect\n    sock_and_verified = _ssl_wrap_socket_and_match_hostname(\n                        ^^^^^^^^^^^^^^^^^^^^^^^^^^^^^^^^^^^^\n  File \"C:\\Users\\shruti.y.agarwal\\AppData\\Local\\Programs\\Python\\Python311\\Lib\\site-packages\\urllib3\\connection.py\", line 806, in _ssl_wrap_socket_and_match_hostname\n    ssl_sock = ssl_wrap_socket(\n               ^^^^^^^^^^^^^^^^\n  File \"C:\\Users\\shruti.y.agarwal\\AppData\\Local\\Programs\\Python\\Python311\\Lib\\site-packages\\urllib3\\util\\ssl_.py\", line 465, in ssl_wrap_socket\n    ssl_sock = _ssl_wrap_socket_impl(sock, context, tls_in_tls, server_hostname)\n               ^^^^^^^^^^^^^^^^^^^^^^^^^^^^^^^^^^^^^^^^^^^^^^^^^^^^^^^^^^^^^^^^^\n  File \"C:\\Users\\shruti.y.agarwal\\AppData\\Local\\Programs\\Python\\Python311\\Lib\\site-packages\\urllib3\\util\\ssl_.py\", line 509, in _ssl_wrap_socket_impl\n    return ssl_context.wrap_socket(sock, server_hostname=server_hostname)\n           ^^^^^^^^^^^^^^^^^^^^^^^^^^^^^^^^^^^^^^^^^^^^^^^^^^^^^^^^^^^^^^\n  File \"C:\\Users\\shruti.y.agarwal\\AppData\\Local\\Programs\\Python\\Python311\\Lib\\ssl.py\", line 517, in wrap_socket\n    return self.sslsocket_class._create(\n           ^^^^^^^^^^^^^^^^^^^^^^^^^^^^^\n  File \"C:\\Users\\shruti.y.agarwal\\AppData\\Local\\Programs\\Python\\Python311\\Lib\\ssl.py\", line 1104, in _create\n    self.do_handshake()\n  File \"C:\\Users\\shruti.y.agarwal\\AppData\\Local\\Programs\\Python\\Python311\\Lib\\ssl.py\", line 1382, in do_handshake\n    self._sslobj.do_handshake()\nssl.SSLCertVerificationError: [SSL: CERTIFICATE_VERIFY_FAILED] certificate verify failed: self-signed certificate in certificate chain (_ssl.c:1006)\n\nDuring handling of the above exception, another exception occurred:\n\nTraceback (most recent call last):\n  File \"C:\\Users\\shruti.y.agarwal\\AppData\\Local\\Programs\\Python\\Python311\\Lib\\site-packages\\urllib3\\connectionpool.py\", line 793, in urlopen\n    response = self._make_request(\n               ^^^^^^^^^^^^^^^^^^^\n  File \"C:\\Users\\shruti.y.agarwal\\AppData\\Local\\Programs\\Python\\Python311\\Lib\\site-packages\\urllib3\\connectionpool.py\", line 491, in _make_request\n    raise new_e\nurllib3.exceptions.SSLError: [SSL: CERTIFICATE_VERIFY_FAILED] certificate verify failed: self-signed certificate in certificate chain (_ssl.c:1006)\n\nThe above exception was the direct cause of the following exception:\n\nTraceback (most recent call last):\n  File \"C:\\Users\\shruti.y.agarwal\\AppData\\Local\\Programs\\Python\\Python311\\Lib\\site-packages\\requests\\adapters.py\", line 486, in send\n    resp = conn.urlopen(\n           ^^^^^^^^^^^^^\n  File \"C:\\Users\\shruti.y.agarwal\\AppData\\Local\\Programs\\Python\\Python311\\Lib\\site-packages\\urllib3\\connectionpool.py\", line 847, in urlopen\n    retries = retries.increment(\n              ^^^^^^^^^^^^^^^^^^\n  File \"C:\\Users\\shruti.y.agarwal\\AppData\\Local\\Programs\\Python\\Python311\\Lib\\site-packages\\urllib3\\util\\retry.py\", line 515, in increment\n    raise MaxRetryError(_pool, url, reason) from reason  # type: ignore[arg-type]\n    ^^^^^^^^^^^^^^^^^^^^^^^^^^^^^^^^^^^^^^^^^^^^^^^^^^^\nurllib3.exceptions.MaxRetryError: HTTPSConnectionPool(host='cdn-lfs.hf.co', port=443): Max retries exceeded with url: /repos/fb/9d/fb9d2cbe2e913461ae463cd35cb5a43ad1c5115ba9e913382f147e2f1ea66f3d/b4515a8e32f81ab4fef65e10891fdb188bc45c4195620d447bc3263e132d9de5?response-content-disposition=inline%3B+filename*%3DUTF-8%27%27model-00001-of-00002.safetensors%3B+filename%3D%22model-00001-of-00002.safetensors%22%3B&Expires=1750756953&Policy=eyJTdGF0ZW1lbnQiOlt7IkNvbmRpdGlvbiI6eyJEYXRlTGVzc1RoYW4iOnsiQVdTOkVwb2NoVGltZSI6MTc1MDc1Njk1M319LCJSZXNvdXJjZSI6Imh0dHBzOi8vY2RuLWxmcy5oZi5jby9yZXBvcy9mYi85ZC9mYjlkMmNiZTJlOTEzNDYxYWU0NjNjZDM1Y2I1YTQzYWQxYzUxMTViYTllOTEzMzgyZjE0N2UyZjFlYTY2ZjNkL2I0NTE1YThlMzJmODFhYjRmZWY2NWUxMDg5MWZkYjE4OGJjNDVjNDE5NTYyMGQ0NDdiYzMyNjNlMTMyZDlkZTU~cmVzcG9uc2UtY29udGVudC1kaXNwb3NpdGlvbj0qIn1dfQ__&Signature=EUO5KAIV~B6hFc974BSNTfFPJKMOkQX5Fg0UE3xJmPUAA4aEejOkA2WyckEzRGwoy18CsJ1~TMcFW1k9zsR-2Ow3onOgNrQxKvIWrzKAKOr87Ih9tLShtxLoD4GJuJt7rh~MTuc~GCY2XTQe9UguivchnGzD0mVLs-O7olt0-epOPuD1Rat2W8wZpaIJ0jBHtqgMjfHrGDeeukXDE9dB7ZGdwexYCwKs6A4wuVVF3tMdGmBZnkoje~jjo07mg~7IeanV4BA8zB2jcJsh2nImimx8WM-8vixVN716~5bkq0XlqcEESydbD3g1XCp1ScsCiHsFGuuB87O1Jiwd1Oc29A__&Key-Pair-Id=K3RPWS32NSSJCE (Caused by SSLError(SSLCertVerificationError(1, '[SSL: CERTIFICATE_VERIFY_FAILED] certificate verify failed: self-signed certificate in certificate chain (_ssl.c:1006)')))\n\nDuring handling of the above exception, another exception occurred:\n\nTraceback (most recent call last):\n  File \"C:\\Users\\shruti.y.agarwal\\AppData\\Local\\Programs\\Python\\Python311\\Lib\\site-packages\\transformers\\pipelines\\base.py\", line 290, in infer_framework_load_model\n    model = model_class.from_pretrained(model, **kwargs)\n            ^^^^^^^^^^^^^^^^^^^^^^^^^^^^^^^^^^^^^^^^^^^^\n  File \"C:\\Users\\shruti.y.agarwal\\AppData\\Local\\Programs\\Python\\Python311\\Lib\\site-packages\\transformers\\models\\auto\\auto_factory.py\", line 564, in from_pretrained\n    return model_class.from_pretrained(\n           ^^^^^^^^^^^^^^^^^^^^^^^^^^^^\n  File \"C:\\Users\\shruti.y.agarwal\\AppData\\Local\\Programs\\Python\\Python311\\Lib\\site-packages\\transformers\\modeling_utils.py\", line 262, in _wrapper\n    return func(*args, **kwargs)\n           ^^^^^^^^^^^^^^^^^^^^^\n  File \"C:\\Users\\shruti.y.agarwal\\AppData\\Local\\Programs\\Python\\Python311\\Lib\\site-packages\\transformers\\modeling_utils.py\", line 4022, in from_pretrained\n    resolved_archive_file, sharded_metadata = get_checkpoint_shard_files(\n                                              ^^^^^^^^^^^^^^^^^^^^^^^^^^^\n  File \"C:\\Users\\shruti.y.agarwal\\AppData\\Local\\Programs\\Python\\Python311\\Lib\\site-packages\\transformers\\utils\\hub.py\", line 1037, in get_checkpoint_shard_files\n    cached_filename = cached_file(\n                      ^^^^^^^^^^^^\n  File \"C:\\Users\\shruti.y.agarwal\\AppData\\Local\\Programs\\Python\\Python311\\Lib\\site-packages\\transformers\\utils\\hub.py\", line 342, in cached_file\n    resolved_file = hf_hub_download(\n                    ^^^^^^^^^^^^^^^^\n  File \"C:\\Users\\shruti.y.agarwal\\AppData\\Local\\Programs\\Python\\Python311\\Lib\\site-packages\\huggingface_hub\\utils\\_validators.py\", line 114, in _inner_fn\n    return fn(*args, **kwargs)\n           ^^^^^^^^^^^^^^^^^^^\n  File \"C:\\Users\\shruti.y.agarwal\\AppData\\Local\\Programs\\Python\\Python311\\Lib\\site-packages\\huggingface_hub\\file_download.py\", line 860, in hf_hub_download\n    return _hf_hub_download_to_cache_dir(\n           ^^^^^^^^^^^^^^^^^^^^^^^^^^^^^^\n  File \"C:\\Users\\shruti.y.agarwal\\AppData\\Local\\Programs\\Python\\Python311\\Lib\\site-packages\\huggingface_hub\\file_download.py\", line 1009, in _hf_hub_download_to_cache_dir\n    _download_to_tmp_and_move(\n  File \"C:\\Users\\shruti.y.agarwal\\AppData\\Local\\Programs\\Python\\Python311\\Lib\\site-packages\\huggingface_hub\\file_download.py\", line 1543, in _download_to_tmp_and_move\n    http_get(\n  File \"C:\\Users\\shruti.y.agarwal\\AppData\\Local\\Programs\\Python\\Python311\\Lib\\site-packages\\huggingface_hub\\file_download.py\", line 469, in http_get\n    return http_get(\n           ^^^^^^^^^\n  File \"C:\\Users\\shruti.y.agarwal\\AppData\\Local\\Programs\\Python\\Python311\\Lib\\site-packages\\huggingface_hub\\file_download.py\", line 369, in http_get\n    r = _request_wrapper(\n        ^^^^^^^^^^^^^^^^^\n  File \"C:\\Users\\shruti.y.agarwal\\AppData\\Local\\Programs\\Python\\Python311\\Lib\\site-packages\\huggingface_hub\\file_download.py\", line 301, in _request_wrapper\n    response = get_session().request(method=method, url=url, **params)\n               ^^^^^^^^^^^^^^^^^^^^^^^^^^^^^^^^^^^^^^^^^^^^^^^^^^^^^^^\n  File \"C:\\Users\\shruti.y.agarwal\\AppData\\Local\\Programs\\Python\\Python311\\Lib\\site-packages\\requests\\sessions.py\", line 589, in request\n    resp = self.send(prep, **send_kwargs)\n           ^^^^^^^^^^^^^^^^^^^^^^^^^^^^^^\n  File \"C:\\Users\\shruti.y.agarwal\\AppData\\Local\\Programs\\Python\\Python311\\Lib\\site-packages\\requests\\sessions.py\", line 703, in send\n    r = adapter.send(request, **kwargs)\n        ^^^^^^^^^^^^^^^^^^^^^^^^^^^^^^^\n  File \"C:\\Users\\shruti.y.agarwal\\AppData\\Local\\Programs\\Python\\Python311\\Lib\\site-packages\\huggingface_hub\\utils\\_http.py\", line 93, in send\n    return super().send(request, *args, **kwargs)\n           ^^^^^^^^^^^^^^^^^^^^^^^^^^^^^^^^^^^^^^\n  File \"C:\\Users\\shruti.y.agarwal\\AppData\\Local\\Programs\\Python\\Python311\\Lib\\site-packages\\requests\\adapters.py\", line 517, in send\n    raise SSLError(e, request=request)\nrequests.exceptions.SSLError: (MaxRetryError(\"HTTPSConnectionPool(host='cdn-lfs.hf.co', port=443): Max retries exceeded with url: /repos/fb/9d/fb9d2cbe2e913461ae463cd35cb5a43ad1c5115ba9e913382f147e2f1ea66f3d/b4515a8e32f81ab4fef65e10891fdb188bc45c4195620d447bc3263e132d9de5?response-content-disposition=inline%3B+filename*%3DUTF-8%27%27model-00001-of-00002.safetensors%3B+filename%3D%22model-00001-of-00002.safetensors%22%3B&Expires=1750756953&Policy=eyJTdGF0ZW1lbnQiOlt7IkNvbmRpdGlvbiI6eyJEYXRlTGVzc1RoYW4iOnsiQVdTOkVwb2NoVGltZSI6MTc1MDc1Njk1M319LCJSZXNvdXJjZSI6Imh0dHBzOi8vY2RuLWxmcy5oZi5jby9yZXBvcy9mYi85ZC9mYjlkMmNiZTJlOTEzNDYxYWU0NjNjZDM1Y2I1YTQzYWQxYzUxMTViYTllOTEzMzgyZjE0N2UyZjFlYTY2ZjNkL2I0NTE1YThlMzJmODFhYjRmZWY2NWUxMDg5MWZkYjE4OGJjNDVjNDE5NTYyMGQ0NDdiYzMyNjNlMTMyZDlkZTU~cmVzcG9uc2UtY29udGVudC1kaXNwb3NpdGlvbj0qIn1dfQ__&Signature=EUO5KAIV~B6hFc974BSNTfFPJKMOkQX5Fg0UE3xJmPUAA4aEejOkA2WyckEzRGwoy18CsJ1~TMcFW1k9zsR-2Ow3onOgNrQxKvIWrzKAKOr87Ih9tLShtxLoD4GJuJt7rh~MTuc~GCY2XTQe9UguivchnGzD0mVLs-O7olt0-epOPuD1Rat2W8wZpaIJ0jBHtqgMjfHrGDeeukXDE9dB7ZGdwexYCwKs6A4wuVVF3tMdGmBZnkoje~jjo07mg~7IeanV4BA8zB2jcJsh2nImimx8WM-8vixVN716~5bkq0XlqcEESydbD3g1XCp1ScsCiHsFGuuB87O1Jiwd1Oc29A__&Key-Pair-Id=K3RPWS32NSSJCE (Caused by SSLError(SSLCertVerificationError(1, '[SSL: CERTIFICATE_VERIFY_FAILED] certificate verify failed: self-signed certificate in certificate chain (_ssl.c:1006)')))\"), '(Request ID: 9c40653b-72a6-4ad0-b7c3-1655ade61299)')\n\nwhile loading with TFAutoModelForCausalLM, an error is thrown:\nTraceback (most recent call last):\n  File \"C:\\Users\\shruti.y.agarwal\\AppData\\Local\\Programs\\Python\\Python311\\Lib\\site-packages\\transformers\\pipelines\\base.py\", line 290, in infer_framework_load_model\n    model = model_class.from_pretrained(model, **kwargs)\n            ^^^^^^^^^^^^^^^^^^^^^^^^^^^^^^^^^^^^^^^^^^^^\n  File \"C:\\Users\\shruti.y.agarwal\\AppData\\Local\\Programs\\Python\\Python311\\Lib\\site-packages\\transformers\\models\\auto\\auto_factory.py\", line 567, in from_pretrained\n    raise ValueError(\nValueError: Unrecognized configuration class <class 'transformers.models.falcon.configuration_falcon.FalconConfig'> for this kind of AutoModel: TFAutoModelForCausalLM.\nModel type should be one of BertConfig, CamembertConfig, CTRLConfig, GPT2Config, GPT2Config, GPTJConfig, MistralConfig, OpenAIGPTConfig, OPTConfig, RemBertConfig, RobertaConfig, RobertaPreLayerNormConfig, RoFormerConfig, TransfoXLConfig, XGLMConfig, XLMConfig, XLMRobertaConfig, XLNetConfig.\n\nwhile loading with FalconForCausalLM, an error is thrown:\nTraceback (most recent call last):\n  File \"C:\\Users\\shruti.y.agarwal\\AppData\\Local\\Programs\\Python\\Python311\\Lib\\site-packages\\urllib3\\response.py\", line 737, in _error_catcher\n    yield\n  File \"C:\\Users\\shruti.y.agarwal\\AppData\\Local\\Programs\\Python\\Python311\\Lib\\site-packages\\urllib3\\response.py\", line 852, in _raw_read\n    data = self._fp_read(amt, read1=read1) if not fp_closed else b\"\"\n           ^^^^^^^^^^^^^^^^^^^^^^^^^^^^^^^\n  File \"C:\\Users\\shruti.y.agarwal\\AppData\\Local\\Programs\\Python\\Python311\\Lib\\site-packages\\urllib3\\response.py\", line 835, in _fp_read\n    return self._fp.read(amt) if amt is not None else self._fp.read()\n           ^^^^^^^^^^^^^^^^^^\n  File \"C:\\Users\\shruti.y.agarwal\\AppData\\Local\\Programs\\Python\\Python311\\Lib\\http\\client.py\", line 473, in read\n    s = self.fp.read(amt)\n        ^^^^^^^^^^^^^^^^^\n  File \"C:\\Users\\shruti.y.agarwal\\AppData\\Local\\Programs\\Python\\Python311\\Lib\\socket.py\", line 706, in readinto\n    return self._sock.recv_into(b)\n           ^^^^^^^^^^^^^^^^^^^^^^^\n  File \"C:\\Users\\shruti.y.agarwal\\AppData\\Local\\Programs\\Python\\Python311\\Lib\\ssl.py\", line 1314, in recv_into\n    return self.read(nbytes, buffer)\n           ^^^^^^^^^^^^^^^^^^^^^^^^^\n  File \"C:\\Users\\shruti.y.agarwal\\AppData\\Local\\Programs\\Python\\Python311\\Lib\\ssl.py\", line 1166, in read\n    return self._sslobj.read(len, buffer)\n           ^^^^^^^^^^^^^^^^^^^^^^^^^^^^^^\nTimeoutError: The read operation timed out\n\nThe above exception was the direct cause of the following exception:\n\nTraceback (most recent call last):\n  File \"C:\\Users\\shruti.y.agarwal\\AppData\\Local\\Programs\\Python\\Python311\\Lib\\site-packages\\requests\\models.py\", line 816, in generate\n    yield from self.raw.stream(chunk_size, decode_content=True)\n  File \"C:\\Users\\shruti.y.agarwal\\AppData\\Local\\Programs\\Python\\Python311\\Lib\\site-packages\\urllib3\\response.py\", line 1033, in stream\n    data = self.read(amt=amt, decode_content=decode_content)\n           ^^^^^^^^^^^^^^^^^^^^^^^^^^^^^^^^^^^^^^^^^^^^^^^^^\n  File \"C:\\Users\\shruti.y.agarwal\\AppData\\Local\\Programs\\Python\\Python311\\Lib\\site-packages\\urllib3\\response.py\", line 925, in read\n    data = self._raw_read(amt)\n           ^^^^^^^^^^^^^^^^^^^\n  File \"C:\\Users\\shruti.y.agarwal\\AppData\\Local\\Programs\\Python\\Python311\\Lib\\site-packages\\urllib3\\response.py\", line 851, in _raw_read\n    with self._error_catcher():\n  File \"C:\\Users\\shruti.y.agarwal\\AppData\\Local\\Programs\\Python\\Python311\\Lib\\contextlib.py\", line 158, in __exit__\n    self.gen.throw(typ, value, traceback)\n  File \"C:\\Users\\shruti.y.agarwal\\AppData\\Local\\Programs\\Python\\Python311\\Lib\\site-packages\\urllib3\\response.py\", line 742, in _error_catcher\n    raise ReadTimeoutError(self._pool, None, \"Read timed out.\") from e  # type: ignore[arg-type]\n    ^^^^^^^^^^^^^^^^^^^^^^^^^^^^^^^^^^^^^^^^^^^^^^^^^^^^^^^^^^^^^^^^^^\nurllib3.exceptions.ReadTimeoutError: HTTPSConnectionPool(host='cdn-lfs.hf.co', port=443): Read timed out.\n\nDuring handling of the above exception, another exception occurred:\n\nTraceback (most recent call last):\n  File \"C:\\Users\\shruti.y.agarwal\\AppData\\Local\\Programs\\Python\\Python311\\Lib\\site-packages\\huggingface_hub\\file_download.py\", line 452, in http_get\n    for chunk in r.iter_content(chunk_size=constants.DOWNLOAD_CHUNK_SIZE):\n  File \"C:\\Users\\shruti.y.agarwal\\AppData\\Local\\Programs\\Python\\Python311\\Lib\\site-packages\\requests\\models.py\", line 822, in generate\n    raise ConnectionError(e)\nrequests.exceptions.ConnectionError: HTTPSConnectionPool(host='cdn-lfs.hf.co', port=443): Read timed out.\n\nDuring handling of the above exception, another exception occurred:\n\nTraceback (most recent call last):\n  File \"C:\\Users\\shruti.y.agarwal\\AppData\\Local\\Programs\\Python\\Python311\\Lib\\site-packages\\urllib3\\response.py\", line 737, in _error_catcher\n    yield\n  File \"C:\\Users\\shruti.y.agarwal\\AppData\\Local\\Programs\\Python\\Python311\\Lib\\site-packages\\urllib3\\response.py\", line 852, in _raw_read\n    data = self._fp_read(amt, read1=read1) if not fp_closed else b\"\"\n           ^^^^^^^^^^^^^^^^^^^^^^^^^^^^^^^\n  File \"C:\\Users\\shruti.y.agarwal\\AppData\\Local\\Programs\\Python\\Python311\\Lib\\site-packages\\urllib3\\response.py\", line 835, in _fp_read\n    return self._fp.read(amt) if amt is not None else self._fp.read()\n           ^^^^^^^^^^^^^^^^^^\n  File \"C:\\Users\\shruti.y.agarwal\\AppData\\Local\\Programs\\Python\\Python311\\Lib\\http\\client.py\", line 473, in read\n    s = self.fp.read(amt)\n        ^^^^^^^^^^^^^^^^^\n  File \"C:\\Users\\shruti.y.agarwal\\AppData\\Local\\Programs\\Python\\Python311\\Lib\\socket.py\", line 706, in readinto\n    return self._sock.recv_into(b)\n           ^^^^^^^^^^^^^^^^^^^^^^^\n  File \"C:\\Users\\shruti.y.agarwal\\AppData\\Local\\Programs\\Python\\Python311\\Lib\\ssl.py\", line 1314, in recv_into\n    return self.read(nbytes, buffer)\n           ^^^^^^^^^^^^^^^^^^^^^^^^^\n  File \"C:\\Users\\shruti.y.agarwal\\AppData\\Local\\Programs\\Python\\Python311\\Lib\\ssl.py\", line 1166, in read\n    return self._sslobj.read(len, buffer)\n           ^^^^^^^^^^^^^^^^^^^^^^^^^^^^^^\nTimeoutError: The read operation timed out\n\nThe above exception was the direct cause of the following exception:\n\nTraceback (most recent call last):\n  File \"C:\\Users\\shruti.y.agarwal\\AppData\\Local\\Programs\\Python\\Python311\\Lib\\site-packages\\requests\\models.py\", line 816, in generate\n    yield from self.raw.stream(chunk_size, decode_content=True)\n  File \"C:\\Users\\shruti.y.agarwal\\AppData\\Local\\Programs\\Python\\Python311\\Lib\\site-packages\\urllib3\\response.py\", line 1033, in stream\n    data = self.read(amt=amt, decode_content=decode_content)\n           ^^^^^^^^^^^^^^^^^^^^^^^^^^^^^^^^^^^^^^^^^^^^^^^^^\n  File \"C:\\Users\\shruti.y.agarwal\\AppData\\Local\\Programs\\Python\\Python311\\Lib\\site-packages\\urllib3\\response.py\", line 925, in read\n    data = self._raw_read(amt)\n           ^^^^^^^^^^^^^^^^^^^\n  File \"C:\\Users\\shruti.y.agarwal\\AppData\\Local\\Programs\\Python\\Python311\\Lib\\site-packages\\urllib3\\response.py\", line 851, in _raw_read\n    with self._error_catcher():\n  File \"C:\\Users\\shruti.y.agarwal\\AppData\\Local\\Programs\\Python\\Python311\\Lib\\contextlib.py\", line 158, in __exit__\n    self.gen.throw(typ, value, traceback)\n  File \"C:\\Users\\shruti.y.agarwal\\AppData\\Local\\Programs\\Python\\Python311\\Lib\\site-packages\\urllib3\\response.py\", line 742, in _error_catcher\n    raise ReadTimeoutError(self._pool, None, \"Read timed out.\") from e  # type: ignore[arg-type]\n    ^^^^^^^^^^^^^^^^^^^^^^^^^^^^^^^^^^^^^^^^^^^^^^^^^^^^^^^^^^^^^^^^^^\nurllib3.exceptions.ReadTimeoutError: HTTPSConnectionPool(host='cdn-lfs.hf.co', port=443): Read timed out.\n\nDuring handling of the above exception, another exception occurred:\n\nTraceback (most recent call last):\n  File \"C:\\Users\\shruti.y.agarwal\\AppData\\Local\\Programs\\Python\\Python311\\Lib\\site-packages\\huggingface_hub\\file_download.py\", line 452, in http_get\n    for chunk in r.iter_content(chunk_size=constants.DOWNLOAD_CHUNK_SIZE):\n  File \"C:\\Users\\shruti.y.agarwal\\AppData\\Local\\Programs\\Python\\Python311\\Lib\\site-packages\\requests\\models.py\", line 822, in generate\n    raise ConnectionError(e)\nrequests.exceptions.ConnectionError: HTTPSConnectionPool(host='cdn-lfs.hf.co', port=443): Read timed out.\n\nDuring handling of the above exception, another exception occurred:\n\nTraceback (most recent call last):\n  File \"C:\\Users\\shruti.y.agarwal\\AppData\\Local\\Programs\\Python\\Python311\\Lib\\site-packages\\huggingface_hub\\utils\\_http.py\", line 406, in hf_raise_for_status\n    response.raise_for_status()\n  File \"C:\\Users\\shruti.y.agarwal\\AppData\\Local\\Programs\\Python\\Python311\\Lib\\site-packages\\requests\\models.py\", line 1021, in raise_for_status\n    raise HTTPError(http_error_msg, response=self)\nrequests.exceptions.HTTPError: 403 Client Error: Forbidden for url: https://cdn-lfs.hf.co/repos/fb/9d/fb9d2cbe2e913461ae463cd35cb5a43ad1c5115ba9e913382f147e2f1ea66f3d/b4515a8e32f81ab4fef65e10891fdb188bc45c4195620d447bc3263e132d9de5?response-content-disposition=inline%3B+filename*%3DUTF-8%27%27model-00001-of-00002.safetensors%3B+filename%3D%22model-00001-of-00002.safetensors%22%3B&Expires=1750757338&Policy=eyJTdGF0ZW1lbnQiOlt7IkNvbmRpdGlvbiI6eyJEYXRlTGVzc1RoYW4iOnsiQVdTOkVwb2NoVGltZSI6MTc1MDc1NzMzOH19LCJSZXNvdXJjZSI6Imh0dHBzOi8vY2RuLWxmcy5oZi5jby9yZXBvcy9mYi85ZC9mYjlkMmNiZTJlOTEzNDYxYWU0NjNjZDM1Y2I1YTQzYWQxYzUxMTViYTllOTEzMzgyZjE0N2UyZjFlYTY2ZjNkL2I0NTE1YThlMzJmODFhYjRmZWY2NWUxMDg5MWZkYjE4OGJjNDVjNDE5NTYyMGQ0NDdiYzMyNjNlMTMyZDlkZTU~cmVzcG9uc2UtY29udGVudC1kaXNwb3NpdGlvbj0qIn1dfQ__&Signature=wDi5JiAcAK7DqyCV3CRR~bv6q822TzT~Qw94o3T3gpf6ZLFRSgPWwfE--~c5AMMcNSyse0AKncH0A3BjGMCIvwdrEk5vRs--42YixcuOcmG-B0J28a2eU85LVMEtn-S4wDtmYwbiT8xxDfheRgmWwan6KO5W-2-h2klzVku9cKlj6YEiovx3-NOaPxBXlv02zLg~s6D4RxM6lAr~XThxgXomDvYuDUTsxtxpz7fM40rExh6akDTbIfOmi0-pm6oVpfrB1mhd1x21EzzfmKFjXJgHS7bVyyDk7Pop2K7JUXcL8LJ-Q96ihWlWvDJrZlVyPo5dYdbsLM3~fWYo8fv8SQ__&Key-Pair-Id=K3RPWS32NSSJCE\n\nThe above exception was the direct cause of the following exception:\n\nTraceback (most recent call last):\n  File \"C:\\Users\\shruti.y.agarwal\\AppData\\Local\\Programs\\Python\\Python311\\Lib\\site-packages\\transformers\\utils\\hub.py\", line 342, in cached_file\n    resolved_file = hf_hub_download(\n                    ^^^^^^^^^^^^^^^^\n  File \"C:\\Users\\shruti.y.agarwal\\AppData\\Local\\Programs\\Python\\Python311\\Lib\\site-packages\\huggingface_hub\\utils\\_validators.py\", line 114, in _inner_fn\n    return fn(*args, **kwargs)\n           ^^^^^^^^^^^^^^^^^^^\n  File \"C:\\Users\\shruti.y.agarwal\\AppData\\Local\\Programs\\Python\\Python311\\Lib\\site-packages\\huggingface_hub\\file_download.py\", line 860, in hf_hub_download\n    return _hf_hub_download_to_cache_dir(\n           ^^^^^^^^^^^^^^^^^^^^^^^^^^^^^^\n  File \"C:\\Users\\shruti.y.agarwal\\AppData\\Local\\Programs\\Python\\Python311\\Lib\\site-packages\\huggingface_hub\\file_download.py\", line 1009, in _hf_hub_download_to_cache_dir\n    _download_to_tmp_and_move(\n  File \"C:\\Users\\shruti.y.agarwal\\AppData\\Local\\Programs\\Python\\Python311\\Lib\\site-packages\\huggingface_hub\\file_download.py\", line 1543, in _download_to_tmp_and_move\n    http_get(\n  File \"C:\\Users\\shruti.y.agarwal\\AppData\\Local\\Programs\\Python\\Python311\\Lib\\site-packages\\huggingface_hub\\file_download.py\", line 469, in http_get\n    return http_get(\n           ^^^^^^^^^\n  File \"C:\\Users\\shruti.y.agarwal\\AppData\\Local\\Programs\\Python\\Python311\\Lib\\site-packages\\huggingface_hub\\file_download.py\", line 469, in http_get\n    return http_get(\n           ^^^^^^^^^\n  File \"C:\\Users\\shruti.y.agarwal\\AppData\\Local\\Programs\\Python\\Python311\\Lib\\site-packages\\huggingface_hub\\file_download.py\", line 369, in http_get\n    r = _request_wrapper(\n        ^^^^^^^^^^^^^^^^^\n  File \"C:\\Users\\shruti.y.agarwal\\AppData\\Local\\Programs\\Python\\Python311\\Lib\\site-packages\\huggingface_hub\\file_download.py\", line 302, in _request_wrapper\n    hf_raise_for_status(response)\n  File \"C:\\Users\\shruti.y.agarwal\\AppData\\Local\\Programs\\Python\\Python311\\Lib\\site-packages\\huggingface_hub\\utils\\_http.py\", line 468, in hf_raise_for_status\n    raise _format(HfHubHTTPError, message, response) from e\nhuggingface_hub.errors.HfHubHTTPError: 403 Forbidden: None.\nCannot access content at: https://cdn-lfs.hf.co/repos/fb/9d/fb9d2cbe2e913461ae463cd35cb5a43ad1c5115ba9e913382f147e2f1ea66f3d/b4515a8e32f81ab4fef65e10891fdb188bc45c4195620d447bc3263e132d9de5?response-content-disposition=inline%3B+filename*%3DUTF-8%27%27model-00001-of-00002.safetensors%3B+filename%3D%22model-00001-of-00002.safetensors%22%3B&Expires=1750757338&Policy=eyJTdGF0ZW1lbnQiOlt7IkNvbmRpdGlvbiI6eyJEYXRlTGVzc1RoYW4iOnsiQVdTOkVwb2NoVGltZSI6MTc1MDc1NzMzOH19LCJSZXNvdXJjZSI6Imh0dHBzOi8vY2RuLWxmcy5oZi5jby9yZXBvcy9mYi85ZC9mYjlkMmNiZTJlOTEzNDYxYWU0NjNjZDM1Y2I1YTQzYWQxYzUxMTViYTllOTEzMzgyZjE0N2UyZjFlYTY2ZjNkL2I0NTE1YThlMzJmODFhYjRmZWY2NWUxMDg5MWZkYjE4OGJjNDVjNDE5NTYyMGQ0NDdiYzMyNjNlMTMyZDlkZTU~cmVzcG9uc2UtY29udGVudC1kaXNwb3NpdGlvbj0qIn1dfQ__&Signature=wDi5JiAcAK7DqyCV3CRR~bv6q822TzT~Qw94o3T3gpf6ZLFRSgPWwfE--~c5AMMcNSyse0AKncH0A3BjGMCIvwdrEk5vRs--42YixcuOcmG-B0J28a2eU85LVMEtn-S4wDtmYwbiT8xxDfheRgmWwan6KO5W-2-h2klzVku9cKlj6YEiovx3-NOaPxBXlv02zLg~s6D4RxM6lAr~XThxgXomDvYuDUTsxtxpz7fM40rExh6akDTbIfOmi0-pm6oVpfrB1mhd1x21EzzfmKFjXJgHS7bVyyDk7Pop2K7JUXcL8LJ-Q96ihWlWvDJrZlVyPo5dYdbsLM3~fWYo8fv8SQ__&Key-Pair-Id=K3RPWS32NSSJCE.\nMake sure your token has the correct permissions.\n<?xml version=\"1.0\" encoding=\"UTF-8\"?><Error><Code>AccessDenied</Code><Message>Access denied</Message></Error>\n\nDuring handling of the above exception, another exception occurred:\n\nTraceback (most recent call last):\n  File \"C:\\Users\\shruti.y.agarwal\\AppData\\Local\\Programs\\Python\\Python311\\Lib\\site-packages\\transformers\\pipelines\\base.py\", line 290, in infer_framework_load_model\n    model = model_class.from_pretrained(model, **kwargs)\n            ^^^^^^^^^^^^^^^^^^^^^^^^^^^^^^^^^^^^^^^^^^^^\n  File \"C:\\Users\\shruti.y.agarwal\\AppData\\Local\\Programs\\Python\\Python311\\Lib\\site-packages\\transformers\\modeling_utils.py\", line 262, in _wrapper\n    return func(*args, **kwargs)\n           ^^^^^^^^^^^^^^^^^^^^^\n  File \"C:\\Users\\shruti.y.agarwal\\AppData\\Local\\Programs\\Python\\Python311\\Lib\\site-packages\\transformers\\modeling_utils.py\", line 4022, in from_pretrained\n    resolved_archive_file, sharded_metadata = get_checkpoint_shard_files(\n                                              ^^^^^^^^^^^^^^^^^^^^^^^^^^^\n  File \"C:\\Users\\shruti.y.agarwal\\AppData\\Local\\Programs\\Python\\Python311\\Lib\\site-packages\\transformers\\utils\\hub.py\", line 1037, in get_checkpoint_shard_files\n    cached_filename = cached_file(\n                      ^^^^^^^^^^^^\n  File \"C:\\Users\\shruti.y.agarwal\\AppData\\Local\\Programs\\Python\\Python311\\Lib\\site-packages\\transformers\\utils\\hub.py\", line 406, in cached_file\n    raise EnvironmentError(f\"There was a specific connection error when trying to load {path_or_repo_id}:\\n{err}\")\nOSError: There was a specific connection error when trying to load tiiuae/falcon-7b-instruct:\n403 Forbidden: None.\nCannot access content at: https://cdn-lfs.hf.co/repos/fb/9d/fb9d2cbe2e913461ae463cd35cb5a43ad1c5115ba9e913382f147e2f1ea66f3d/b4515a8e32f81ab4fef65e10891fdb188bc45c4195620d447bc3263e132d9de5?response-content-disposition=inline%3B+filename*%3DUTF-8%27%27model-00001-of-00002.safetensors%3B+filename%3D%22model-00001-of-00002.safetensors%22%3B&Expires=1750757338&Policy=eyJTdGF0ZW1lbnQiOlt7IkNvbmRpdGlvbiI6eyJEYXRlTGVzc1RoYW4iOnsiQVdTOkVwb2NoVGltZSI6MTc1MDc1NzMzOH19LCJSZXNvdXJjZSI6Imh0dHBzOi8vY2RuLWxmcy5oZi5jby9yZXBvcy9mYi85ZC9mYjlkMmNiZTJlOTEzNDYxYWU0NjNjZDM1Y2I1YTQzYWQxYzUxMTViYTllOTEzMzgyZjE0N2UyZjFlYTY2ZjNkL2I0NTE1YThlMzJmODFhYjRmZWY2NWUxMDg5MWZkYjE4OGJjNDVjNDE5NTYyMGQ0NDdiYzMyNjNlMTMyZDlkZTU~cmVzcG9uc2UtY29udGVudC1kaXNwb3NpdGlvbj0qIn1dfQ__&Signature=wDi5JiAcAK7DqyCV3CRR~bv6q822TzT~Qw94o3T3gpf6ZLFRSgPWwfE--~c5AMMcNSyse0AKncH0A3BjGMCIvwdrEk5vRs--42YixcuOcmG-B0J28a2eU85LVMEtn-S4wDtmYwbiT8xxDfheRgmWwan6KO5W-2-h2klzVku9cKlj6YEiovx3-NOaPxBXlv02zLg~s6D4RxM6lAr~XThxgXomDvYuDUTsxtxpz7fM40rExh6akDTbIfOmi0-pm6oVpfrB1mhd1x21EzzfmKFjXJgHS7bVyyDk7Pop2K7JUXcL8LJ-Q96ihWlWvDJrZlVyPo5dYdbsLM3~fWYo8fv8SQ__&Key-Pair-Id=K3RPWS32NSSJCE.\nMake sure your token has the correct permissions.\n<?xml version=\"1.0\" encoding=\"UTF-8\"?><Error><Code>AccessDenied</Code><Message>Access denied</Message></Error>\n\n\n"
     ]
    }
   ],
   "source": [
    "from langchain.embeddings import HuggingFaceEmbeddings\n",
    "from langchain.vectorstores import FAISS\n",
    "from langchain.llms import HuggingFacePipeline\n",
    "from langchain.chains import RetrievalQA\n",
    "from transformers import pipeline\n",
    "\n",
    "# Load sentence-transformer model for embeddings\n",
    "embedding = HuggingFaceEmbeddings(model_name=\"sentence-transformers/all-MiniLM-L6-v2\")\n",
    "db_hf = FAISS.from_documents(docs, embedding)\n",
    "\n",
    "# Load a local language model for generation\n",
    "generator = pipeline(\"text-generation\", model=\"tiiuae/falcon-7b-instruct\", device=0)\n",
    "llm = HuggingFacePipeline(pipeline=generator)\n",
    "\n",
    "# Create retrieval chain\n",
    "retriever = db_hf.as_retriever()\n",
    "qa_chain = RetrievalQA.from_chain_type(llm=llm, retriever=retriever)\n",
    "\n",
    "# Ask the same question\n",
    "query = \"What is the internet reimbursement policy?\"\n",
    "print(\"Answer:\", qa_chain.run(query))\n"
   ]
  },
  {
   "cell_type": "markdown",
   "id": "d6b5925b",
   "metadata": {},
   "source": [
    "### 🧩 Note: Required Installations\n",
    "```\n",
    "pip install langchain openai faiss-cpu transformers sentence-transformers\n",
    "```"
   ]
  },
  {
   "cell_type": "code",
   "execution_count": 23,
   "id": "24a4009f-834c-41e9-83fc-7f10f28a430b",
   "metadata": {},
   "outputs": [
    {
     "data": {
      "application/vnd.jupyter.widget-view+json": {
       "model_id": "ff7e3a332c944cd59f3dd9253365cd85",
       "version_major": 2,
       "version_minor": 0
      },
      "text/plain": [
       "tokenizer_config.json:   0%|          | 0.00/48.0 [00:00<?, ?B/s]"
      ]
     },
     "metadata": {},
     "output_type": "display_data"
    },
    {
     "name": "stderr",
     "output_type": "stream",
     "text": [
      "C:\\Users\\shruti.y.agarwal\\AppData\\Local\\Programs\\Python\\Python311\\Lib\\site-packages\\huggingface_hub\\file_download.py:140: UserWarning: `huggingface_hub` cache-system uses symlinks by default to efficiently store duplicated files but your machine does not support them in C:\\Users\\shruti.y.agarwal\\.cache\\huggingface\\hub\\models--bert-base-uncased. Caching files will still work but in a degraded version that might require more space on your disk. This warning can be disabled by setting the `HF_HUB_DISABLE_SYMLINKS_WARNING` environment variable. For more details, see https://huggingface.co/docs/huggingface_hub/how-to-cache#limitations.\n",
      "To support symlinks on Windows, you either need to activate Developer Mode or to run Python as an administrator. In order to activate developer mode, see this article: https://docs.microsoft.com/en-us/windows/apps/get-started/enable-your-device-for-development\n",
      "  warnings.warn(message)\n"
     ]
    },
    {
     "data": {
      "application/vnd.jupyter.widget-view+json": {
       "model_id": "ba338b097bd74a3ea27b0d5206404ba3",
       "version_major": 2,
       "version_minor": 0
      },
      "text/plain": [
       "config.json:   0%|          | 0.00/570 [00:00<?, ?B/s]"
      ]
     },
     "metadata": {},
     "output_type": "display_data"
    },
    {
     "data": {
      "application/vnd.jupyter.widget-view+json": {
       "model_id": "41e91c577891438cacc88425a11a5c96",
       "version_major": 2,
       "version_minor": 0
      },
      "text/plain": [
       "vocab.txt:   0%|          | 0.00/232k [00:00<?, ?B/s]"
      ]
     },
     "metadata": {},
     "output_type": "display_data"
    },
    {
     "data": {
      "application/vnd.jupyter.widget-view+json": {
       "model_id": "0dc248cd70c24ff0a83cee33c7513c30",
       "version_major": 2,
       "version_minor": 0
      },
      "text/plain": [
       "tokenizer.json:   0%|          | 0.00/466k [00:00<?, ?B/s]"
      ]
     },
     "metadata": {},
     "output_type": "display_data"
    },
    {
     "name": "stdout",
     "output_type": "stream",
     "text": [
      "['genera', '##tive', 'ai', 'is', 'transforming', 'the', 'world', '.']\n"
     ]
    }
   ],
   "source": [
    "from transformers import AutoTokenizer\n",
    "\n",
    "text = \"Generative AI is transforming the world.\"\n",
    "tokenizer = AutoTokenizer.from_pretrained(\"bert-base-uncased\")\n",
    "tokens = tokenizer.tokenize(text)\n",
    "print(tokens)"
   ]
  },
  {
   "cell_type": "code",
   "execution_count": 24,
   "id": "a77a43ac-b709-4e02-9f4e-25558f6550e5",
   "metadata": {},
   "outputs": [
    {
     "name": "stdout",
     "output_type": "stream",
     "text": [
      "(2, 384)\n"
     ]
    }
   ],
   "source": [
    "from sentence_transformers import SentenceTransformer\n",
    "\n",
    "model = SentenceTransformer(\"all-MiniLM-L6-v2\")\n",
    "\n",
    "sentences = [\"GenAI is powerful.\", \"Artificial Intelligence is changing the world.\"]\n",
    "embeddings = model.encode(sentences)\n",
    "print(embeddings.shape)"
   ]
  },
  {
   "cell_type": "code",
   "execution_count": 25,
   "id": "b91d2a75-0cab-4102-8b79-579cac17e14e",
   "metadata": {},
   "outputs": [
    {
     "data": {
      "text/plain": [
       "array([[ 2.77056266e-03,  6.38142824e-02, -5.65668754e-02,\n",
       "         1.18399290e-02, -2.81380191e-02, -2.96664275e-02,\n",
       "         7.73810893e-02,  2.97305863e-02, -2.82823667e-02,\n",
       "        -5.14059849e-02,  9.31461528e-03, -1.67999156e-02,\n",
       "        -4.96530160e-03,  6.25537187e-02,  6.91059977e-02,\n",
       "         2.53060907e-02,  1.04664244e-01,  3.54761668e-02,\n",
       "        -4.92834896e-02, -1.07124904e-02,  1.30795629e-03,\n",
       "         6.20465577e-02,  4.21305187e-02, -2.52282713e-02,\n",
       "         5.37727997e-02, -2.87194606e-02, -4.10087686e-03,\n",
       "         1.80802010e-02,  8.18390027e-02, -4.14696299e-02,\n",
       "        -3.30323051e-03,  1.39598474e-02, -6.36558831e-02,\n",
       "         2.83321198e-02, -1.08463906e-01,  9.72971171e-02,\n",
       "        -2.25607809e-02,  8.83382857e-02,  4.58770245e-02,\n",
       "        -4.43473719e-02,  3.00353058e-02, -2.75530685e-02,\n",
       "         2.52154637e-02, -3.77236791e-02,  6.16870075e-02,\n",
       "        -8.33367333e-02, -6.26540557e-02, -2.87474860e-02,\n",
       "         1.84783502e-03, -3.08106858e-02, -8.69067088e-02,\n",
       "         1.56955863e-03,  6.52131811e-02,  4.21887375e-02,\n",
       "         3.62738855e-02,  3.31521779e-02,  4.15642485e-02,\n",
       "        -1.46189407e-01,  4.21131440e-02, -3.02903540e-02,\n",
       "        -3.17697339e-02,  2.97140311e-02, -4.41781506e-02,\n",
       "        -6.54293373e-02,  5.18948399e-02, -4.58789989e-02,\n",
       "         1.79775264e-02, -4.97454107e-02, -4.36019227e-02,\n",
       "        -4.60779741e-02,  6.75900355e-02, -3.50854769e-02,\n",
       "         6.73687505e-03, -2.33320277e-02, -8.15878250e-03,\n",
       "         9.11435857e-02, -4.33308966e-02,  2.36623492e-02,\n",
       "         5.47968671e-02,  3.47570926e-02,  4.12046798e-02,\n",
       "         8.05767346e-03, -3.03072389e-03,  7.36880228e-02,\n",
       "         4.33550449e-04,  3.51824090e-02,  9.41726342e-02,\n",
       "        -5.40249944e-02,  5.09657115e-02,  7.52747525e-03,\n",
       "         6.03374504e-02,  8.89023542e-02,  8.97296071e-02,\n",
       "         8.63637477e-02,  3.84933390e-02,  6.21162131e-02,\n",
       "        -5.79072386e-02, -8.80284384e-02, -1.46422833e-01,\n",
       "         5.92522956e-02, -5.70169128e-02,  6.05258457e-02,\n",
       "        -2.72809006e-02,  2.29575187e-02, -8.64906684e-02,\n",
       "         1.69320926e-02,  7.61006027e-02,  4.18301262e-02,\n",
       "        -4.15436253e-02,  4.45749462e-02, -6.10693498e-03,\n",
       "        -3.98928076e-02, -4.35646884e-02,  2.66878773e-02,\n",
       "        -7.82497413e-03,  3.29183340e-02, -7.27229714e-02,\n",
       "         1.47844389e-01, -3.79733667e-02,  3.20333727e-02,\n",
       "         1.96021367e-02, -3.52452658e-02, -3.84334214e-02,\n",
       "         5.12371548e-02,  5.92921004e-02,  3.89086269e-02,\n",
       "        -7.97636993e-03, -3.64428999e-33,  3.83981988e-02,\n",
       "        -4.85140504e-03,  2.13424042e-02, -4.26969677e-03,\n",
       "         4.19736393e-02,  3.32367197e-02, -1.92714948e-02,\n",
       "        -4.08680588e-02,  1.86381266e-02, -7.17869774e-02,\n",
       "        -1.48760125e-01,  2.63008680e-02, -5.42147867e-02,\n",
       "         1.53901493e-02,  3.67778190e-03, -1.89732376e-03,\n",
       "        -1.03939911e-02, -1.74511895e-02,  3.27354074e-02,\n",
       "        -1.29087511e-02,  8.31793547e-02,  8.37435722e-02,\n",
       "         1.85501836e-02, -8.50459784e-02,  5.41661168e-03,\n",
       "         6.43714964e-02,  3.75604220e-02, -3.21593694e-02,\n",
       "        -2.18272042e-02,  5.54525927e-02, -5.73677421e-02,\n",
       "        -7.34384879e-02, -6.78802514e-03,  3.02645285e-02,\n",
       "        -5.03613614e-02,  6.72693644e-03, -9.07389149e-02,\n",
       "        -4.40662466e-02, -2.71041295e-03,  8.71411413e-02,\n",
       "        -7.37778395e-02,  9.25273746e-02, -3.89650017e-02,\n",
       "        -9.39387009e-02, -2.94912979e-02,  2.26230379e-02,\n",
       "         7.04702139e-02,  4.80846502e-02, -1.19553857e-01,\n",
       "         6.56695524e-03,  1.05438642e-02,  1.15041276e-02,\n",
       "        -7.40225241e-02,  1.04848463e-02,  3.22759934e-02,\n",
       "        -2.28203926e-02,  2.13339888e-02,  9.52451825e-02,\n",
       "         3.22968550e-02,  3.79188433e-02, -5.03938310e-02,\n",
       "        -1.74078578e-03, -3.45141813e-03,  7.03927875e-02,\n",
       "        -2.35293042e-02,  1.09772813e-02, -6.80274442e-02,\n",
       "         4.12739851e-02,  1.80106889e-02, -1.67508684e-02,\n",
       "         6.37935996e-02, -3.93305570e-02, -1.43279862e-02,\n",
       "         2.35376917e-02, -8.93395618e-02, -9.07611698e-02,\n",
       "         4.18448672e-02, -5.79275750e-03,  2.57142335e-02,\n",
       "         1.61028653e-02, -1.07319750e-01,  5.93572371e-02,\n",
       "        -2.28497889e-02,  3.41889970e-02, -4.44349553e-03,\n",
       "        -1.04343472e-02, -7.69563532e-03,  2.44193058e-02,\n",
       "        -1.18577690e-03, -4.07704264e-02,  6.30209297e-02,\n",
       "        -1.68961473e-02,  8.02332833e-02, -7.69313946e-02,\n",
       "        -1.20441467e-01,  3.96913786e-33, -5.74976988e-02,\n",
       "        -2.33545490e-02,  2.60154866e-02,  5.81303276e-02,\n",
       "         7.56009817e-02, -8.20024610e-02, -6.49789199e-02,\n",
       "         1.20924935e-02, -1.90739185e-02, -4.17345092e-02,\n",
       "         2.46602762e-02,  2.21290644e-02,  3.65047641e-02,\n",
       "        -4.39842753e-02,  2.98824999e-02, -2.37853341e-02,\n",
       "         9.69922766e-02,  2.79525779e-02, -2.27830429e-02,\n",
       "         1.92910582e-02,  4.97807749e-02,  8.99619162e-02,\n",
       "         2.74065305e-02, -3.51220481e-02,  3.37881595e-02,\n",
       "         1.45307567e-03, -3.21714357e-02,  2.66327225e-02,\n",
       "        -5.34832552e-02,  1.55710131e-02,  4.43536881e-03,\n",
       "         1.88473724e-02, -3.68237421e-02,  2.61989888e-02,\n",
       "         6.00575358e-02,  8.99587050e-02,  2.22021155e-02,\n",
       "         1.09033268e-02,  9.03361961e-02,  3.21283266e-02,\n",
       "        -1.07935537e-02,  4.95406613e-02,  1.98681448e-02,\n",
       "         9.25616324e-02, -5.77144735e-02,  2.49323472e-02,\n",
       "         1.10456981e-02,  6.32582754e-02,  5.92743903e-02,\n",
       "        -1.02750948e-02, -1.52620440e-02,  3.33006606e-02,\n",
       "        -2.94231363e-02, -4.59363908e-02, -4.54526395e-02,\n",
       "        -3.59361619e-02,  8.56655389e-02,  4.36786981e-03,\n",
       "        -1.05385765e-01, -2.24691238e-02, -1.53805446e-02,\n",
       "        -8.95164534e-02,  1.68426279e-02,  7.30004087e-02,\n",
       "        -1.04502719e-02,  8.73555988e-02,  2.36452129e-02,\n",
       "         2.56634708e-02,  2.64325328e-02, -2.04372555e-02,\n",
       "        -3.38072032e-02, -6.75253272e-02, -2.49958914e-02,\n",
       "         4.91862791e-03, -7.93371201e-02,  2.44225916e-02,\n",
       "        -4.22635004e-02,  7.95360748e-03,  8.86601359e-02,\n",
       "        -1.20522730e-01, -3.78551185e-02, -2.61388831e-02,\n",
       "        -1.07503735e-01, -1.10038169e-01,  3.17616411e-03,\n",
       "         2.43620854e-02,  3.26763578e-02,  1.02132559e-02,\n",
       "         5.17587774e-02,  1.40096918e-02,  1.00974767e-02,\n",
       "        -2.33587865e-02, -1.67654548e-02,  1.67602282e-02,\n",
       "         1.06664076e-02, -1.30633042e-08,  3.13932337e-02,\n",
       "        -4.65596728e-02,  8.99539441e-02,  3.19998525e-02,\n",
       "         2.74056308e-02,  7.06606731e-02, -7.44870156e-02,\n",
       "         2.62338668e-02,  5.58094382e-02,  8.44077319e-02,\n",
       "         9.14586112e-02,  3.51162031e-02, -4.56986055e-02,\n",
       "        -1.70266640e-03,  5.53127080e-02,  1.33419400e-02,\n",
       "         2.35765055e-02,  2.74312235e-02, -8.08553323e-02,\n",
       "        -7.76990950e-02, -5.15872687e-02, -8.19615927e-03,\n",
       "         2.89542973e-02, -3.86069119e-02, -1.34491650e-02,\n",
       "        -5.95102981e-02, -5.39378449e-02, -4.44222651e-02,\n",
       "        -8.72949662e-04,  2.54300665e-02,  7.34955221e-02,\n",
       "        -3.86039875e-02, -5.16888760e-02, -3.11821010e-02,\n",
       "        -1.14699584e-02,  5.47938421e-02, -1.18412804e-02,\n",
       "        -2.41747908e-02,  2.85598412e-02, -4.47196998e-02,\n",
       "         3.37298848e-02,  2.66972780e-02,  8.89911409e-03,\n",
       "         1.64485667e-02, -8.46801549e-02, -4.59455848e-02,\n",
       "         5.03913201e-02, -1.02088392e-01, -6.24628663e-02,\n",
       "        -1.98967047e-02, -4.39366372e-03, -1.90202277e-02,\n",
       "         8.63299593e-02,  2.04747124e-03,  4.73534167e-02,\n",
       "         6.74144402e-02, -4.34637032e-02, -1.25627602e-02,\n",
       "        -1.85598619e-02, -3.89757115e-05,  1.18335169e-02,\n",
       "        -4.39141324e-04,  4.28732000e-02, -1.53412903e-02],\n",
       "       [ 3.75755578e-02, -2.69373488e-02,  9.15609226e-02,\n",
       "        -1.22513622e-02,  3.64902429e-02, -1.42016942e-02,\n",
       "        -2.60563996e-02, -2.04703072e-03,  1.59138180e-02,\n",
       "         3.09830233e-02, -4.80983825e-03,  4.67073843e-02,\n",
       "        -5.47339534e-03,  4.80678417e-02, -5.24346717e-02,\n",
       "         9.73840058e-03, -6.95926994e-02, -4.67750058e-02,\n",
       "        -1.25780374e-01, -6.16964176e-02,  1.25715649e-02,\n",
       "         5.08971512e-02,  1.20822908e-02, -2.42505576e-02,\n",
       "        -1.75768249e-02,  2.60922238e-02,  2.69658472e-02,\n",
       "        -5.06908521e-02, -2.00454369e-02, -5.37814088e-02,\n",
       "         3.11414730e-02,  8.31794366e-02,  3.58052105e-02,\n",
       "         2.33187787e-02, -2.94036232e-02,  3.67132574e-02,\n",
       "        -5.90915605e-03,  2.47149821e-02,  5.39860986e-02,\n",
       "        -2.27299388e-02,  1.87836438e-02, -7.55456463e-02,\n",
       "        -1.59725025e-02, -1.61116626e-02,  4.94197570e-02,\n",
       "         1.33079320e-01, -8.62574056e-02, -2.81026252e-02,\n",
       "         1.98144335e-02,  1.03658754e-02, -1.54155537e-01,\n",
       "        -4.98839281e-02,  2.45579462e-02, -6.01819158e-02,\n",
       "        -2.99604200e-02,  1.74242482e-02,  9.99550298e-02,\n",
       "         3.29250991e-02,  4.96780910e-02, -1.07269594e-02,\n",
       "         8.59961659e-03, -3.00023966e-02,  7.10723698e-02,\n",
       "         6.85187653e-02,  7.24833384e-02,  5.28303012e-02,\n",
       "        -6.73245788e-02,  1.39546376e-02, -2.06619594e-02,\n",
       "         1.57916006e-02,  3.29494439e-02,  1.00613348e-01,\n",
       "         9.52717885e-02,  2.34409682e-02,  4.98175249e-02,\n",
       "        -6.21258281e-02,  2.98941974e-02,  4.33625840e-02,\n",
       "         1.60153180e-01, -8.00348935e-04,  4.24780436e-02,\n",
       "        -7.27679133e-02, -1.29720732e-03,  1.85358319e-02,\n",
       "         3.92656960e-02, -4.60268371e-02, -4.20480855e-02,\n",
       "        -2.14808695e-02, -1.52359307e-02, -5.21636195e-02,\n",
       "        -2.01781094e-02, -4.18973193e-02,  1.39059471e-02,\n",
       "        -1.01492442e-02, -1.10683385e-02,  2.58229300e-02,\n",
       "        -4.56653796e-02, -5.81333078e-02,  1.59963723e-02,\n",
       "         6.27302453e-02, -9.06482413e-02,  3.93833928e-02,\n",
       "         3.68467122e-02,  8.88437871e-03,  3.18486132e-02,\n",
       "        -2.05066018e-02,  6.85502067e-02,  1.71341244e-02,\n",
       "         1.22490572e-02, -8.63075033e-02, -5.71831316e-03,\n",
       "         3.64201181e-02,  6.32300228e-02, -5.28432354e-02,\n",
       "        -4.22524884e-02, -1.46638853e-02, -2.20283191e-03,\n",
       "         1.44586653e-01, -4.45094854e-02,  6.50489628e-02,\n",
       "         2.32276395e-02,  1.60371419e-02, -4.37920727e-02,\n",
       "         6.88236058e-02,  5.11926413e-03, -6.34666309e-02,\n",
       "        -6.32717460e-02, -4.29886513e-33, -6.74738139e-02,\n",
       "        -4.49718209e-03,  5.83362542e-02,  6.23010211e-02,\n",
       "        -3.40733975e-02, -3.13402265e-02, -8.49525910e-03,\n",
       "        -2.12707855e-02,  1.65857188e-02, -6.87967464e-02,\n",
       "        -5.44870384e-02,  9.12462920e-03, -5.39022088e-02,\n",
       "         4.34252769e-02,  7.73442835e-02, -6.05031885e-02,\n",
       "        -4.17613834e-02,  5.51972203e-02,  5.90557083e-02,\n",
       "        -2.12388597e-02,  2.53656544e-02, -1.88606773e-02,\n",
       "        -1.57345515e-02,  1.58924609e-04, -3.23413610e-02,\n",
       "         5.88134490e-02,  4.31322828e-02, -2.91748196e-02,\n",
       "         4.06793505e-02, -1.76753830e-02, -2.57053203e-03,\n",
       "         9.72651169e-02, -7.74408430e-02,  1.96744110e-02,\n",
       "         3.20838578e-02, -5.70498267e-03, -2.49753557e-02,\n",
       "        -1.36213051e-02, -2.23585349e-02,  3.09139173e-02,\n",
       "        -1.66152567e-02,  4.98254299e-02, -4.17286493e-02,\n",
       "        -3.13647501e-02,  4.55700979e-02,  1.15841888e-02,\n",
       "         9.17150006e-02, -2.44695712e-02, -2.22590957e-02,\n",
       "        -7.26841902e-03, -6.03479445e-02,  2.96903644e-02,\n",
       "         4.66067791e-02, -7.08987191e-02,  1.14779629e-01,\n",
       "        -4.10427013e-03, -1.82834100e-02,  2.79305186e-02,\n",
       "         4.10940573e-02, -4.62020189e-02,  5.41834272e-02,\n",
       "         7.29381759e-03,  9.79855657e-03,  9.78509858e-02,\n",
       "         5.13606369e-02,  7.55494535e-02,  3.44324633e-02,\n",
       "         2.45679263e-02,  4.61144522e-02,  1.17192782e-01,\n",
       "        -1.43250229e-03,  5.76258712e-02, -5.99383004e-02,\n",
       "         2.77983025e-02, -1.09958947e-01, -1.90100074e-02,\n",
       "         3.22924368e-02, -1.09281048e-01,  1.09323524e-02,\n",
       "        -4.14972492e-02, -7.02057555e-02,  4.32889201e-02,\n",
       "        -1.89846605e-02, -5.88450804e-02,  9.74437371e-02,\n",
       "         4.31501586e-03,  1.37227951e-02, -4.17109802e-02,\n",
       "         4.13650386e-02,  2.73855403e-02, -3.59370187e-02,\n",
       "        -4.89758030e-02,  1.69147067e-02,  3.01601142e-02,\n",
       "        -4.77745645e-02,  4.01989387e-33, -1.38971910e-01,\n",
       "        -2.98659354e-02, -8.55686441e-02,  6.12247400e-02,\n",
       "        -2.31306092e-03, -3.71541195e-02,  1.40022440e-02,\n",
       "         2.49658506e-02,  1.03323832e-02,  6.19449727e-02,\n",
       "         1.80856604e-02, -2.59360392e-02,  4.00691554e-02,\n",
       "         3.10675893e-02,  9.60767921e-03, -7.62649300e-03,\n",
       "         6.56754419e-04, -2.06832811e-02, -2.49443129e-02,\n",
       "         2.64885128e-02,  2.50236839e-02,  1.19671017e-01,\n",
       "        -8.42487663e-02, -1.53135154e-02,  8.64845235e-04,\n",
       "         4.99470830e-02,  2.08719703e-03,  5.93550168e-02,\n",
       "         3.37258703e-03,  4.98056486e-02, -6.73805773e-02,\n",
       "        -8.83857720e-03, -1.10661924e-01,  1.21340185e-01,\n",
       "        -5.48935449e-03,  1.90275931e-03, -2.45830603e-02,\n",
       "        -4.98466119e-02, -4.21590954e-02,  3.35296057e-02,\n",
       "        -2.92303320e-02, -5.04489020e-02, -5.03315367e-02,\n",
       "        -3.38314399e-02, -7.84895103e-03,  5.48426434e-03,\n",
       "        -2.01498885e-02,  7.08066374e-02, -3.08572873e-02,\n",
       "        -2.37985514e-02,  1.94094479e-02, -2.66637653e-02,\n",
       "        -1.17660500e-02, -1.27437696e-01, -6.63527623e-02,\n",
       "         6.12075888e-02, -3.15543599e-02, -4.10332158e-02,\n",
       "        -5.89929447e-02,  7.92734697e-02, -5.31871878e-02,\n",
       "        -5.46306521e-02,  3.97324860e-02,  2.61521284e-02,\n",
       "        -1.70375482e-04,  2.40255333e-02, -2.24860292e-02,\n",
       "         8.74380469e-02, -4.29526120e-02, -7.32704923e-02,\n",
       "         8.66120234e-02, -4.00954261e-02, -7.32672811e-02,\n",
       "        -5.55703323e-03, -3.77916917e-02, -2.46688426e-02,\n",
       "        -4.57278080e-02,  4.21136944e-03, -1.78416204e-02,\n",
       "        -7.96347391e-03,  6.15717880e-02, -3.60661596e-02,\n",
       "         6.71030954e-02,  4.68823090e-02, -2.87014022e-02,\n",
       "         9.57265496e-02, -3.12168989e-03,  3.31863500e-02,\n",
       "        -6.67967871e-02, -2.24396419e-02, -1.04482710e-01,\n",
       "         9.53331590e-03, -1.35932518e-02,  8.26049410e-03,\n",
       "        -1.45522982e-01, -1.50380703e-08, -1.15947928e-02,\n",
       "        -3.41546051e-02,  6.32458255e-02,  2.24193968e-02,\n",
       "         6.35766834e-02,  2.88592335e-02, -2.06582714e-02,\n",
       "         1.07248770e-02, -5.80638312e-02,  3.58103625e-02,\n",
       "         5.16691804e-02,  4.64713983e-02,  8.48030150e-02,\n",
       "         2.83838585e-02,  4.99047749e-02,  3.86480391e-02,\n",
       "         2.56846249e-02, -1.24237403e-01,  5.99247031e-03,\n",
       "         4.53893468e-02,  3.89495790e-02,  1.92523319e-02,\n",
       "         5.60771441e-03,  7.61923892e-03, -3.00464276e-02,\n",
       "        -6.43438920e-02, -5.81182837e-02,  9.39560309e-03,\n",
       "        -7.59641975e-02,  9.90397111e-03, -2.72001345e-02,\n",
       "        -1.28862076e-02,  5.21098375e-02,  3.86219360e-02,\n",
       "         6.20487817e-02,  3.14256512e-02, -1.33222118e-02,\n",
       "        -5.20738624e-02, -3.56384274e-03, -5.91463456e-03,\n",
       "         7.98336871e-04,  9.52359065e-02, -7.46220723e-02,\n",
       "         2.53312252e-02,  2.23025195e-02, -2.43621506e-02,\n",
       "         4.04751524e-02, -5.24272621e-02,  2.37155985e-02,\n",
       "         1.79697722e-02, -4.37065698e-02,  4.30840924e-02,\n",
       "         1.35663580e-02,  1.68999825e-02,  1.63084909e-01,\n",
       "        -2.50841696e-02,  1.95778776e-02, -2.43861154e-02,\n",
       "        -5.02923056e-02,  1.42674729e-01,  2.49430835e-02,\n",
       "        -3.28776203e-02,  4.23711091e-02, -4.28116955e-02]], dtype=float32)"
      ]
     },
     "execution_count": 25,
     "metadata": {},
     "output_type": "execute_result"
    }
   ],
   "source": [
    "embeddings"
   ]
  },
  {
   "cell_type": "code",
   "execution_count": null,
   "id": "e0294b85-d843-4f89-822d-478739536c8d",
   "metadata": {},
   "outputs": [],
   "source": []
  }
 ],
 "metadata": {
  "kernelspec": {
   "display_name": "Python 3 (ipykernel)",
   "language": "python",
   "name": "python3"
  },
  "language_info": {
   "codemirror_mode": {
    "name": "ipython",
    "version": 3
   },
   "file_extension": ".py",
   "mimetype": "text/x-python",
   "name": "python",
   "nbconvert_exporter": "python",
   "pygments_lexer": "ipython3",
   "version": "3.11.8"
  }
 },
 "nbformat": 4,
 "nbformat_minor": 5
}
