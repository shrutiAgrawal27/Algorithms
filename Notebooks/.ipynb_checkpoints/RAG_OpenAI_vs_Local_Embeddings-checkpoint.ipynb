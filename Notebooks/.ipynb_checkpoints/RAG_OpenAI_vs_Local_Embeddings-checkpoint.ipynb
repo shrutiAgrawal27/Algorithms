{
 "cells": [
  {
   "cell_type": "markdown",
   "id": "84e1657c",
   "metadata": {},
   "source": [
    "# 🤖 RAG System: OpenAI vs Local Embeddings\n",
    "This notebook compares two Retrieval-Augmented Generation (RAG) pipelines:\n",
    "- ✅ Approach 1: Using OpenAI Embeddings + GPT\n",
    "- 🐍 Approach 2: Using HuggingFace Embeddings + Local Model (LLaMA or similar)"
   ]
  },
  {
   "cell_type": "code",
   "execution_count": null,
   "id": "ae7aa04c",
   "metadata": {},
   "outputs": [],
   "source": [
    "from pathlib import Path\n",
    "from langchain.text_splitter import CharacterTextSplitter\n",
    "\n",
    "# Load HR policy\n",
    "file_path = \"HR_Policy.txt\"\n",
    "text = Path(file_path).read_text()\n",
    "\n",
    "# Split into chunks\n",
    "splitter = CharacterTextSplitter(separator=\"\\n\", chunk_size=300, chunk_overlap=20)\n",
    "docs = splitter.create_documents([text])\n",
    "print(\"Document chunks:\", len(docs))\n",
    "docs[:2]  # preview\n"
   ]
  },
  {
   "cell_type": "markdown",
   "id": "37ca5a37",
   "metadata": {},
   "source": [
    "## 🔷 Approach 1: OpenAI Embeddings + GPT"
   ]
  },
  {
   "cell_type": "code",
   "execution_count": null,
   "id": "3301f55a",
   "metadata": {},
   "outputs": [],
   "source": [
    "from langchain.vectorstores import FAISS\n",
    "from langchain.embeddings import OpenAIEmbeddings\n",
    "from langchain.chat_models import ChatOpenAI\n",
    "from langchain.chains import RetrievalQA\n",
    "import os\n",
    "\n",
    "# Set your OpenAI key\n",
    "os.environ[\"OPENAI_API_KEY\"] = \"your-api-key-here\"\n",
    "\n",
    "# Create vector store using OpenAI embeddings\n",
    "embedding = OpenAIEmbeddings()\n",
    "db_openai = FAISS.from_documents(docs, embedding)\n",
    "\n",
    "# Retrieval QA\n",
    "retriever = db_openai.as_retriever()\n",
    "qa_chain = RetrievalQA.from_chain_type(llm=ChatOpenAI(model_name=\"gpt-3.5-turbo\"), retriever=retriever)\n",
    "\n",
    "# Ask a question\n",
    "query = \"How many paid leave days are allowed?\"\n",
    "print(\"Answer:\", qa_chain.run(query))\n"
   ]
  },
  {
   "cell_type": "markdown",
   "id": "be13b750",
   "metadata": {},
   "source": [
    "## 🐍 Approach 2: HuggingFace Embeddings + Local Model"
   ]
  },
  {
   "cell_type": "code",
   "execution_count": null,
   "id": "85e4eafd",
   "metadata": {},
   "outputs": [],
   "source": [
    "from langchain.embeddings import HuggingFaceEmbeddings\n",
    "from langchain.vectorstores import FAISS\n",
    "from langchain.llms import HuggingFacePipeline\n",
    "from langchain.chains import RetrievalQA\n",
    "from transformers import pipeline\n",
    "\n",
    "# Load sentence-transformer model for embeddings\n",
    "embedding = HuggingFaceEmbeddings(model_name=\"sentence-transformers/all-MiniLM-L6-v2\")\n",
    "db_hf = FAISS.from_documents(docs, embedding)\n",
    "\n",
    "# Load a local language model for generation\n",
    "generator = pipeline(\"text-generation\", model=\"tiiuae/falcon-7b-instruct\", device=0)\n",
    "llm = HuggingFacePipeline(pipeline=generator)\n",
    "\n",
    "# Create retrieval chain\n",
    "retriever = db_hf.as_retriever()\n",
    "qa_chain = RetrievalQA.from_chain_type(llm=llm, retriever=retriever)\n",
    "\n",
    "# Ask the same question\n",
    "query = \"What is the internet reimbursement policy?\"\n",
    "print(\"Answer:\", qa_chain.run(query))\n"
   ]
  },
  {
   "cell_type": "markdown",
   "id": "d6b5925b",
   "metadata": {},
   "source": [
    "### 🧩 Note: Required Installations\n",
    "```\n",
    "pip install langchain openai faiss-cpu transformers sentence-transformers\n",
    "```"
   ]
  }
 ],
 "metadata": {
  "kernelspec": {
   "display_name": "Python 3 (ipykernel)",
   "language": "python",
   "name": "python3"
  },
  "language_info": {
   "codemirror_mode": {
    "name": "ipython",
    "version": 3
   },
   "file_extension": ".py",
   "mimetype": "text/x-python",
   "name": "python",
   "nbconvert_exporter": "python",
   "pygments_lexer": "ipython3",
   "version": "3.11.8"
  }
 },
 "nbformat": 4,
 "nbformat_minor": 5
}
